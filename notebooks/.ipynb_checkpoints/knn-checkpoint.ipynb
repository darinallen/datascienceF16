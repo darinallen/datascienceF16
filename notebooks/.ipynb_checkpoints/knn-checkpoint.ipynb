{
 "cells": [
  {
   "cell_type": "code",
   "execution_count": 1,
   "metadata": {
    "collapsed": false
   },
   "outputs": [
    {
     "data": {
      "text/plain": [
       "'\\nOur KNN algorithm\\n'"
      ]
     },
     "execution_count": 1,
     "metadata": {},
     "output_type": "execute_result"
    }
   ],
   "source": [
    "'''\n",
    "Our KNN algorithm\n",
    "'''"
   ]
  },
  {
   "cell_type": "code",
   "execution_count": 2,
   "metadata": {
    "collapsed": true
   },
   "outputs": [],
   "source": [
    "# imports go here\n",
    "import pandas as pd\n",
    "import numpy as np"
   ]
  },
  {
   "cell_type": "code",
   "execution_count": 3,
   "metadata": {
    "collapsed": true
   },
   "outputs": [],
   "source": [
    "'''\n",
    "Part 1: Setting it all up\n",
    "'''\n",
    "\n",
    "# we will need a euclidean_distance_algorithm that takes in\n",
    "# two numpy arrays, and calculates the \n",
    "# euclidean distance between them\n",
    "\n",
    "def euclidean_distance(np1, np2):\n",
    "    return np.linalg.norm(np1-np2)"
   ]
  },
  {
   "cell_type": "code",
   "execution_count": 9,
   "metadata": {
    "collapsed": false
   },
   "outputs": [
    {
     "data": {
      "text/plain": [
       "array([[5.1, 3.5, 1.4, 0.2, 'Iris-setosa'],\n",
       "       [4.9, 3.0, 1.4, 0.2, 'Iris-setosa'],\n",
       "       [4.7, 3.2, 1.3, 0.2, 'Iris-setosa'],\n",
       "       [4.6, 3.1, 1.5, 0.2, 'Iris-setosa'],\n",
       "       [5.0, 3.6, 1.4, 0.2, 'Iris-setosa'],\n",
       "       [5.4, 3.9, 1.7, 0.4, 'Iris-setosa'],\n",
       "       [4.6, 3.4, 1.4, 0.3, 'Iris-setosa'],\n",
       "       [5.0, 3.4, 1.5, 0.2, 'Iris-setosa'],\n",
       "       [4.4, 2.9, 1.4, 0.2, 'Iris-setosa'],\n",
       "       [4.9, 3.1, 1.5, 0.1, 'Iris-setosa'],\n",
       "       [5.4, 3.7, 1.5, 0.2, 'Iris-setosa'],\n",
       "       [4.8, 3.4, 1.6, 0.2, 'Iris-setosa'],\n",
       "       [4.8, 3.0, 1.4, 0.1, 'Iris-setosa'],\n",
       "       [4.3, 3.0, 1.1, 0.1, 'Iris-setosa'],\n",
       "       [5.8, 4.0, 1.2, 0.2, 'Iris-setosa'],\n",
       "       [5.7, 4.4, 1.5, 0.4, 'Iris-setosa'],\n",
       "       [5.4, 3.9, 1.3, 0.4, 'Iris-setosa'],\n",
       "       [5.1, 3.5, 1.4, 0.3, 'Iris-setosa'],\n",
       "       [5.7, 3.8, 1.7, 0.3, 'Iris-setosa'],\n",
       "       [5.1, 3.8, 1.5, 0.3, 'Iris-setosa'],\n",
       "       [5.4, 3.4, 1.7, 0.2, 'Iris-setosa'],\n",
       "       [5.1, 3.7, 1.5, 0.4, 'Iris-setosa'],\n",
       "       [4.6, 3.6, 1.0, 0.2, 'Iris-setosa'],\n",
       "       [5.1, 3.3, 1.7, 0.5, 'Iris-setosa'],\n",
       "       [4.8, 3.4, 1.9, 0.2, 'Iris-setosa'],\n",
       "       [5.0, 3.0, 1.6, 0.2, 'Iris-setosa'],\n",
       "       [5.0, 3.4, 1.6, 0.4, 'Iris-setosa'],\n",
       "       [5.2, 3.5, 1.5, 0.2, 'Iris-setosa'],\n",
       "       [5.2, 3.4, 1.4, 0.2, 'Iris-setosa'],\n",
       "       [4.7, 3.2, 1.6, 0.2, 'Iris-setosa'],\n",
       "       [4.8, 3.1, 1.6, 0.2, 'Iris-setosa'],\n",
       "       [5.4, 3.4, 1.5, 0.4, 'Iris-setosa'],\n",
       "       [5.2, 4.1, 1.5, 0.1, 'Iris-setosa'],\n",
       "       [5.5, 4.2, 1.4, 0.2, 'Iris-setosa'],\n",
       "       [4.9, 3.1, 1.5, 0.1, 'Iris-setosa'],\n",
       "       [5.0, 3.2, 1.2, 0.2, 'Iris-setosa'],\n",
       "       [5.5, 3.5, 1.3, 0.2, 'Iris-setosa'],\n",
       "       [4.9, 3.1, 1.5, 0.1, 'Iris-setosa'],\n",
       "       [4.4, 3.0, 1.3, 0.2, 'Iris-setosa'],\n",
       "       [5.1, 3.4, 1.5, 0.2, 'Iris-setosa'],\n",
       "       [5.0, 3.5, 1.3, 0.3, 'Iris-setosa'],\n",
       "       [4.5, 2.3, 1.3, 0.3, 'Iris-setosa'],\n",
       "       [4.4, 3.2, 1.3, 0.2, 'Iris-setosa'],\n",
       "       [5.0, 3.5, 1.6, 0.6, 'Iris-setosa'],\n",
       "       [5.1, 3.8, 1.9, 0.4, 'Iris-setosa'],\n",
       "       [4.8, 3.0, 1.4, 0.3, 'Iris-setosa'],\n",
       "       [5.1, 3.8, 1.6, 0.2, 'Iris-setosa'],\n",
       "       [4.6, 3.2, 1.4, 0.2, 'Iris-setosa'],\n",
       "       [5.3, 3.7, 1.5, 0.2, 'Iris-setosa'],\n",
       "       [5.0, 3.3, 1.4, 0.2, 'Iris-setosa'],\n",
       "       [7.0, 3.2, 4.7, 1.4, 'Iris-versicolor'],\n",
       "       [6.4, 3.2, 4.5, 1.5, 'Iris-versicolor'],\n",
       "       [6.9, 3.1, 4.9, 1.5, 'Iris-versicolor'],\n",
       "       [5.5, 2.3, 4.0, 1.3, 'Iris-versicolor'],\n",
       "       [6.5, 2.8, 4.6, 1.5, 'Iris-versicolor'],\n",
       "       [5.7, 2.8, 4.5, 1.3, 'Iris-versicolor'],\n",
       "       [6.3, 3.3, 4.7, 1.6, 'Iris-versicolor'],\n",
       "       [4.9, 2.4, 3.3, 1.0, 'Iris-versicolor'],\n",
       "       [6.6, 2.9, 4.6, 1.3, 'Iris-versicolor'],\n",
       "       [5.2, 2.7, 3.9, 1.4, 'Iris-versicolor'],\n",
       "       [5.0, 2.0, 3.5, 1.0, 'Iris-versicolor'],\n",
       "       [5.9, 3.0, 4.2, 1.5, 'Iris-versicolor'],\n",
       "       [6.0, 2.2, 4.0, 1.0, 'Iris-versicolor'],\n",
       "       [6.1, 2.9, 4.7, 1.4, 'Iris-versicolor'],\n",
       "       [5.6, 2.9, 3.6, 1.3, 'Iris-versicolor'],\n",
       "       [6.7, 3.1, 4.4, 1.4, 'Iris-versicolor'],\n",
       "       [5.6, 3.0, 4.5, 1.5, 'Iris-versicolor'],\n",
       "       [5.8, 2.7, 4.1, 1.0, 'Iris-versicolor'],\n",
       "       [6.2, 2.2, 4.5, 1.5, 'Iris-versicolor'],\n",
       "       [5.6, 2.5, 3.9, 1.1, 'Iris-versicolor'],\n",
       "       [5.9, 3.2, 4.8, 1.8, 'Iris-versicolor'],\n",
       "       [6.1, 2.8, 4.0, 1.3, 'Iris-versicolor'],\n",
       "       [6.3, 2.5, 4.9, 1.5, 'Iris-versicolor'],\n",
       "       [6.1, 2.8, 4.7, 1.2, 'Iris-versicolor'],\n",
       "       [6.4, 2.9, 4.3, 1.3, 'Iris-versicolor'],\n",
       "       [6.6, 3.0, 4.4, 1.4, 'Iris-versicolor'],\n",
       "       [6.8, 2.8, 4.8, 1.4, 'Iris-versicolor'],\n",
       "       [6.7, 3.0, 5.0, 1.7, 'Iris-versicolor'],\n",
       "       [6.0, 2.9, 4.5, 1.5, 'Iris-versicolor'],\n",
       "       [5.7, 2.6, 3.5, 1.0, 'Iris-versicolor'],\n",
       "       [5.5, 2.4, 3.8, 1.1, 'Iris-versicolor'],\n",
       "       [5.5, 2.4, 3.7, 1.0, 'Iris-versicolor'],\n",
       "       [5.8, 2.7, 3.9, 1.2, 'Iris-versicolor'],\n",
       "       [6.0, 2.7, 5.1, 1.6, 'Iris-versicolor'],\n",
       "       [5.4, 3.0, 4.5, 1.5, 'Iris-versicolor'],\n",
       "       [6.0, 3.4, 4.5, 1.6, 'Iris-versicolor'],\n",
       "       [6.7, 3.1, 4.7, 1.5, 'Iris-versicolor'],\n",
       "       [6.3, 2.3, 4.4, 1.3, 'Iris-versicolor'],\n",
       "       [5.6, 3.0, 4.1, 1.3, 'Iris-versicolor'],\n",
       "       [5.5, 2.5, 4.0, 1.3, 'Iris-versicolor'],\n",
       "       [5.5, 2.6, 4.4, 1.2, 'Iris-versicolor'],\n",
       "       [6.1, 3.0, 4.6, 1.4, 'Iris-versicolor'],\n",
       "       [5.8, 2.6, 4.0, 1.2, 'Iris-versicolor'],\n",
       "       [5.0, 2.3, 3.3, 1.0, 'Iris-versicolor'],\n",
       "       [5.6, 2.7, 4.2, 1.3, 'Iris-versicolor'],\n",
       "       [5.7, 3.0, 4.2, 1.2, 'Iris-versicolor'],\n",
       "       [5.7, 2.9, 4.2, 1.3, 'Iris-versicolor'],\n",
       "       [6.2, 2.9, 4.3, 1.3, 'Iris-versicolor'],\n",
       "       [5.1, 2.5, 3.0, 1.1, 'Iris-versicolor'],\n",
       "       [5.7, 2.8, 4.1, 1.3, 'Iris-versicolor'],\n",
       "       [6.3, 3.3, 6.0, 2.5, 'Iris-virginica'],\n",
       "       [5.8, 2.7, 5.1, 1.9, 'Iris-virginica'],\n",
       "       [7.1, 3.0, 5.9, 2.1, 'Iris-virginica'],\n",
       "       [6.3, 2.9, 5.6, 1.8, 'Iris-virginica'],\n",
       "       [6.5, 3.0, 5.8, 2.2, 'Iris-virginica'],\n",
       "       [7.6, 3.0, 6.6, 2.1, 'Iris-virginica'],\n",
       "       [4.9, 2.5, 4.5, 1.7, 'Iris-virginica'],\n",
       "       [7.3, 2.9, 6.3, 1.8, 'Iris-virginica'],\n",
       "       [6.7, 2.5, 5.8, 1.8, 'Iris-virginica'],\n",
       "       [7.2, 3.6, 6.1, 2.5, 'Iris-virginica'],\n",
       "       [6.5, 3.2, 5.1, 2.0, 'Iris-virginica'],\n",
       "       [6.4, 2.7, 5.3, 1.9, 'Iris-virginica'],\n",
       "       [6.8, 3.0, 5.5, 2.1, 'Iris-virginica'],\n",
       "       [5.7, 2.5, 5.0, 2.0, 'Iris-virginica'],\n",
       "       [5.8, 2.8, 5.1, 2.4, 'Iris-virginica'],\n",
       "       [6.4, 3.2, 5.3, 2.3, 'Iris-virginica'],\n",
       "       [6.5, 3.0, 5.5, 1.8, 'Iris-virginica'],\n",
       "       [7.7, 3.8, 6.7, 2.2, 'Iris-virginica'],\n",
       "       [7.7, 2.6, 6.9, 2.3, 'Iris-virginica'],\n",
       "       [6.0, 2.2, 5.0, 1.5, 'Iris-virginica'],\n",
       "       [6.9, 3.2, 5.7, 2.3, 'Iris-virginica'],\n",
       "       [5.6, 2.8, 4.9, 2.0, 'Iris-virginica'],\n",
       "       [7.7, 2.8, 6.7, 2.0, 'Iris-virginica'],\n",
       "       [6.3, 2.7, 4.9, 1.8, 'Iris-virginica'],\n",
       "       [6.7, 3.3, 5.7, 2.1, 'Iris-virginica'],\n",
       "       [7.2, 3.2, 6.0, 1.8, 'Iris-virginica'],\n",
       "       [6.2, 2.8, 4.8, 1.8, 'Iris-virginica'],\n",
       "       [6.1, 3.0, 4.9, 1.8, 'Iris-virginica'],\n",
       "       [6.4, 2.8, 5.6, 2.1, 'Iris-virginica'],\n",
       "       [7.2, 3.0, 5.8, 1.6, 'Iris-virginica'],\n",
       "       [7.4, 2.8, 6.1, 1.9, 'Iris-virginica'],\n",
       "       [7.9, 3.8, 6.4, 2.0, 'Iris-virginica'],\n",
       "       [6.4, 2.8, 5.6, 2.2, 'Iris-virginica'],\n",
       "       [6.3, 2.8, 5.1, 1.5, 'Iris-virginica'],\n",
       "       [6.1, 2.6, 5.6, 1.4, 'Iris-virginica'],\n",
       "       [7.7, 3.0, 6.1, 2.3, 'Iris-virginica'],\n",
       "       [6.3, 3.4, 5.6, 2.4, 'Iris-virginica'],\n",
       "       [6.4, 3.1, 5.5, 1.8, 'Iris-virginica'],\n",
       "       [6.0, 3.0, 4.8, 1.8, 'Iris-virginica'],\n",
       "       [6.9, 3.1, 5.4, 2.1, 'Iris-virginica'],\n",
       "       [6.7, 3.1, 5.6, 2.4, 'Iris-virginica'],\n",
       "       [6.9, 3.1, 5.1, 2.3, 'Iris-virginica'],\n",
       "       [5.8, 2.7, 5.1, 1.9, 'Iris-virginica'],\n",
       "       [6.8, 3.2, 5.9, 2.3, 'Iris-virginica'],\n",
       "       [6.7, 3.3, 5.7, 2.5, 'Iris-virginica'],\n",
       "       [6.7, 3.0, 5.2, 2.3, 'Iris-virginica'],\n",
       "       [6.3, 2.5, 5.0, 1.9, 'Iris-virginica'],\n",
       "       [6.5, 3.0, 5.2, 2.0, 'Iris-virginica'],\n",
       "       [6.2, 3.4, 5.4, 2.3, 'Iris-virginica'],\n",
       "       [5.9, 3.0, 5.1, 1.8, 'Iris-virginica']], dtype=object)"
      ]
     },
     "execution_count": 9,
     "metadata": {},
     "output_type": "execute_result"
    }
   ],
   "source": [
    "'''\n",
    "Bring in the iris data from the web\n",
    "iris_data ==\n",
    "    2D numpy array of the four predictors of iris\n",
    "        plus the species\n",
    "'''\n",
    "\n",
    "iris_data = pd.read_csv('https://raw.githubusercontent.com/HunterUSF/BetamoreDS/master/data/iris.csv')\n",
    "\n",
    "# iris_data is a dataframe, but let's turn it into\n",
    "# a 2D numpy array\n",
    "# Hint: use .values to turn a dataframe into a 2d array\n",
    "\n",
    "iris_data = iris_data.values\n",
    "iris_data"
   ]
  },
  {
   "cell_type": "code",
   "execution_count": 18,
   "metadata": {
    "collapsed": false
   },
   "outputs": [
    {
     "data": {
      "text/plain": [
       "array([[5.1, 3.5, 1.4, 0.2],\n",
       "       [4.9, 3.0, 1.4, 0.2],\n",
       "       [4.7, 3.2, 1.3, 0.2],\n",
       "       [4.6, 3.1, 1.5, 0.2],\n",
       "       [5.0, 3.6, 1.4, 0.2],\n",
       "       [5.4, 3.9, 1.7, 0.4],\n",
       "       [4.6, 3.4, 1.4, 0.3],\n",
       "       [5.0, 3.4, 1.5, 0.2],\n",
       "       [4.4, 2.9, 1.4, 0.2],\n",
       "       [4.9, 3.1, 1.5, 0.1],\n",
       "       [5.4, 3.7, 1.5, 0.2],\n",
       "       [4.8, 3.4, 1.6, 0.2],\n",
       "       [4.8, 3.0, 1.4, 0.1],\n",
       "       [4.3, 3.0, 1.1, 0.1],\n",
       "       [5.8, 4.0, 1.2, 0.2],\n",
       "       [5.7, 4.4, 1.5, 0.4],\n",
       "       [5.4, 3.9, 1.3, 0.4],\n",
       "       [5.1, 3.5, 1.4, 0.3],\n",
       "       [5.7, 3.8, 1.7, 0.3],\n",
       "       [5.1, 3.8, 1.5, 0.3],\n",
       "       [5.4, 3.4, 1.7, 0.2],\n",
       "       [5.1, 3.7, 1.5, 0.4],\n",
       "       [4.6, 3.6, 1.0, 0.2],\n",
       "       [5.1, 3.3, 1.7, 0.5],\n",
       "       [4.8, 3.4, 1.9, 0.2],\n",
       "       [5.0, 3.0, 1.6, 0.2],\n",
       "       [5.0, 3.4, 1.6, 0.4],\n",
       "       [5.2, 3.5, 1.5, 0.2],\n",
       "       [5.2, 3.4, 1.4, 0.2],\n",
       "       [4.7, 3.2, 1.6, 0.2],\n",
       "       [4.8, 3.1, 1.6, 0.2],\n",
       "       [5.4, 3.4, 1.5, 0.4],\n",
       "       [5.2, 4.1, 1.5, 0.1],\n",
       "       [5.5, 4.2, 1.4, 0.2],\n",
       "       [4.9, 3.1, 1.5, 0.1],\n",
       "       [5.0, 3.2, 1.2, 0.2],\n",
       "       [5.5, 3.5, 1.3, 0.2],\n",
       "       [4.9, 3.1, 1.5, 0.1],\n",
       "       [4.4, 3.0, 1.3, 0.2],\n",
       "       [5.1, 3.4, 1.5, 0.2],\n",
       "       [5.0, 3.5, 1.3, 0.3],\n",
       "       [4.5, 2.3, 1.3, 0.3],\n",
       "       [4.4, 3.2, 1.3, 0.2],\n",
       "       [5.0, 3.5, 1.6, 0.6],\n",
       "       [5.1, 3.8, 1.9, 0.4],\n",
       "       [4.8, 3.0, 1.4, 0.3],\n",
       "       [5.1, 3.8, 1.6, 0.2],\n",
       "       [4.6, 3.2, 1.4, 0.2],\n",
       "       [5.3, 3.7, 1.5, 0.2],\n",
       "       [5.0, 3.3, 1.4, 0.2],\n",
       "       [7.0, 3.2, 4.7, 1.4],\n",
       "       [6.4, 3.2, 4.5, 1.5],\n",
       "       [6.9, 3.1, 4.9, 1.5],\n",
       "       [5.5, 2.3, 4.0, 1.3],\n",
       "       [6.5, 2.8, 4.6, 1.5],\n",
       "       [5.7, 2.8, 4.5, 1.3],\n",
       "       [6.3, 3.3, 4.7, 1.6],\n",
       "       [4.9, 2.4, 3.3, 1.0],\n",
       "       [6.6, 2.9, 4.6, 1.3],\n",
       "       [5.2, 2.7, 3.9, 1.4],\n",
       "       [5.0, 2.0, 3.5, 1.0],\n",
       "       [5.9, 3.0, 4.2, 1.5],\n",
       "       [6.0, 2.2, 4.0, 1.0],\n",
       "       [6.1, 2.9, 4.7, 1.4],\n",
       "       [5.6, 2.9, 3.6, 1.3],\n",
       "       [6.7, 3.1, 4.4, 1.4],\n",
       "       [5.6, 3.0, 4.5, 1.5],\n",
       "       [5.8, 2.7, 4.1, 1.0],\n",
       "       [6.2, 2.2, 4.5, 1.5],\n",
       "       [5.6, 2.5, 3.9, 1.1],\n",
       "       [5.9, 3.2, 4.8, 1.8],\n",
       "       [6.1, 2.8, 4.0, 1.3],\n",
       "       [6.3, 2.5, 4.9, 1.5],\n",
       "       [6.1, 2.8, 4.7, 1.2],\n",
       "       [6.4, 2.9, 4.3, 1.3],\n",
       "       [6.6, 3.0, 4.4, 1.4],\n",
       "       [6.8, 2.8, 4.8, 1.4],\n",
       "       [6.7, 3.0, 5.0, 1.7],\n",
       "       [6.0, 2.9, 4.5, 1.5],\n",
       "       [5.7, 2.6, 3.5, 1.0],\n",
       "       [5.5, 2.4, 3.8, 1.1],\n",
       "       [5.5, 2.4, 3.7, 1.0],\n",
       "       [5.8, 2.7, 3.9, 1.2],\n",
       "       [6.0, 2.7, 5.1, 1.6],\n",
       "       [5.4, 3.0, 4.5, 1.5],\n",
       "       [6.0, 3.4, 4.5, 1.6],\n",
       "       [6.7, 3.1, 4.7, 1.5],\n",
       "       [6.3, 2.3, 4.4, 1.3],\n",
       "       [5.6, 3.0, 4.1, 1.3],\n",
       "       [5.5, 2.5, 4.0, 1.3],\n",
       "       [5.5, 2.6, 4.4, 1.2],\n",
       "       [6.1, 3.0, 4.6, 1.4],\n",
       "       [5.8, 2.6, 4.0, 1.2],\n",
       "       [5.0, 2.3, 3.3, 1.0],\n",
       "       [5.6, 2.7, 4.2, 1.3],\n",
       "       [5.7, 3.0, 4.2, 1.2],\n",
       "       [5.7, 2.9, 4.2, 1.3],\n",
       "       [6.2, 2.9, 4.3, 1.3],\n",
       "       [5.1, 2.5, 3.0, 1.1],\n",
       "       [5.7, 2.8, 4.1, 1.3],\n",
       "       [6.3, 3.3, 6.0, 2.5],\n",
       "       [5.8, 2.7, 5.1, 1.9],\n",
       "       [7.1, 3.0, 5.9, 2.1],\n",
       "       [6.3, 2.9, 5.6, 1.8],\n",
       "       [6.5, 3.0, 5.8, 2.2],\n",
       "       [7.6, 3.0, 6.6, 2.1],\n",
       "       [4.9, 2.5, 4.5, 1.7],\n",
       "       [7.3, 2.9, 6.3, 1.8],\n",
       "       [6.7, 2.5, 5.8, 1.8],\n",
       "       [7.2, 3.6, 6.1, 2.5],\n",
       "       [6.5, 3.2, 5.1, 2.0],\n",
       "       [6.4, 2.7, 5.3, 1.9],\n",
       "       [6.8, 3.0, 5.5, 2.1],\n",
       "       [5.7, 2.5, 5.0, 2.0],\n",
       "       [5.8, 2.8, 5.1, 2.4],\n",
       "       [6.4, 3.2, 5.3, 2.3],\n",
       "       [6.5, 3.0, 5.5, 1.8],\n",
       "       [7.7, 3.8, 6.7, 2.2],\n",
       "       [7.7, 2.6, 6.9, 2.3],\n",
       "       [6.0, 2.2, 5.0, 1.5],\n",
       "       [6.9, 3.2, 5.7, 2.3],\n",
       "       [5.6, 2.8, 4.9, 2.0],\n",
       "       [7.7, 2.8, 6.7, 2.0],\n",
       "       [6.3, 2.7, 4.9, 1.8],\n",
       "       [6.7, 3.3, 5.7, 2.1],\n",
       "       [7.2, 3.2, 6.0, 1.8],\n",
       "       [6.2, 2.8, 4.8, 1.8],\n",
       "       [6.1, 3.0, 4.9, 1.8],\n",
       "       [6.4, 2.8, 5.6, 2.1],\n",
       "       [7.2, 3.0, 5.8, 1.6],\n",
       "       [7.4, 2.8, 6.1, 1.9],\n",
       "       [7.9, 3.8, 6.4, 2.0],\n",
       "       [6.4, 2.8, 5.6, 2.2],\n",
       "       [6.3, 2.8, 5.1, 1.5],\n",
       "       [6.1, 2.6, 5.6, 1.4],\n",
       "       [7.7, 3.0, 6.1, 2.3],\n",
       "       [6.3, 3.4, 5.6, 2.4],\n",
       "       [6.4, 3.1, 5.5, 1.8],\n",
       "       [6.0, 3.0, 4.8, 1.8],\n",
       "       [6.9, 3.1, 5.4, 2.1],\n",
       "       [6.7, 3.1, 5.6, 2.4],\n",
       "       [6.9, 3.1, 5.1, 2.3],\n",
       "       [5.8, 2.7, 5.1, 1.9],\n",
       "       [6.8, 3.2, 5.9, 2.3],\n",
       "       [6.7, 3.3, 5.7, 2.5],\n",
       "       [6.7, 3.0, 5.2, 2.3],\n",
       "       [6.3, 2.5, 5.0, 1.9],\n",
       "       [6.5, 3.0, 5.2, 2.0],\n",
       "       [6.2, 3.4, 5.4, 2.3],\n",
       "       [5.9, 3.0, 5.1, 1.8]], dtype=object)"
      ]
     },
     "execution_count": 18,
     "metadata": {},
     "output_type": "execute_result"
    }
   ],
   "source": [
    "iris_data[:, 0:4]"
   ]
  },
  {
   "cell_type": "code",
   "execution_count": 48,
   "metadata": {
    "collapsed": false
   },
   "outputs": [
    {
     "data": {
      "text/plain": [
       "array([5.1, 3.5, 1.4, 0.2], dtype=object)"
      ]
     },
     "execution_count": 48,
     "metadata": {},
     "output_type": "execute_result"
    }
   ],
   "source": [
    "iris_data[0, 0:4]"
   ]
  },
  {
   "cell_type": "code",
   "execution_count": 54,
   "metadata": {
    "collapsed": true
   },
   "outputs": [],
   "source": [
    "unknown = [6.3,  3.1 ,  5.1,  2.4]"
   ]
  },
  {
   "cell_type": "code",
   "execution_count": 55,
   "metadata": {
    "collapsed": false
   },
   "outputs": [
    {
     "data": {
      "text/plain": [
       "34.62340249022327"
      ]
     },
     "execution_count": 55,
     "metadata": {},
     "output_type": "execute_result"
    }
   ],
   "source": [
    "euclidean_distance(unknown, iris_data[:, 0:4])"
   ]
  },
  {
   "cell_type": "code",
   "execution_count": 56,
   "metadata": {
    "collapsed": false
   },
   "outputs": [
    {
     "data": {
      "text/plain": [
       "[(6.3, 5.1), (3.1, 3.5), (5.1, 1.4), (2.4, 0.2)]"
      ]
     },
     "execution_count": 56,
     "metadata": {},
     "output_type": "execute_result"
    }
   ],
   "source": [
    "zip(unknown, iris_data[0])"
   ]
  },
  {
   "cell_type": "code",
   "execution_count": 57,
   "metadata": {
    "collapsed": false
   },
   "outputs": [
    {
     "data": {
      "text/plain": [
       "[(6.3, 5.1), (3.1, 3.5), (5.1, 1.4), (2.4, 0.2)]"
      ]
     },
     "execution_count": 57,
     "metadata": {},
     "output_type": "execute_result"
    }
   ],
   "source": [
    "zip(unknown, iris_data[0])"
   ]
  },
  {
   "cell_type": "code",
   "execution_count": 58,
   "metadata": {
    "collapsed": false
   },
   "outputs": [
    {
     "data": {
      "text/plain": [
       "9.0038880490596949"
      ]
     },
     "execution_count": 58,
     "metadata": {},
     "output_type": "execute_result"
    }
   ],
   "source": [
    "np.linalg.norm(unknown)"
   ]
  },
  {
   "cell_type": "code",
   "execution_count": 59,
   "metadata": {
    "collapsed": false
   },
   "outputs": [
    {
     "name": "stdout",
     "output_type": "stream",
     "text": [
      "[6.3, 3.1, 5.1, 2.4]\n",
      "[5.1 3.5 1.4 0.2]\n"
     ]
    },
    {
     "data": {
      "text/plain": [
       "array([1.2000000000000002, -0.3999999999999999, 3.6999999999999997,\n",
       "       2.1999999999999997], dtype=object)"
      ]
     },
     "execution_count": 59,
     "metadata": {},
     "output_type": "execute_result"
    }
   ],
   "source": [
    "print(unknown)\n",
    "print(iris_data[0, :4])\n",
    "unknown - iris_data[0, :4]"
   ]
  },
  {
   "cell_type": "code",
   "execution_count": 60,
   "metadata": {
    "collapsed": false
   },
   "outputs": [
    {
     "data": {
      "text/plain": [
       "4.4866468548349108"
      ]
     },
     "execution_count": 60,
     "metadata": {},
     "output_type": "execute_result"
    }
   ],
   "source": [
    "np.linalg.norm(unknown - iris_data[0, :4])"
   ]
  },
  {
   "cell_type": "code",
   "execution_count": 61,
   "metadata": {
    "collapsed": false
   },
   "outputs": [
    {
     "data": {
      "text/plain": [
       "4.4866468548349108"
      ]
     },
     "execution_count": 61,
     "metadata": {},
     "output_type": "execute_result"
    }
   ],
   "source": [
    "euclidean_distance(unknown, iris_data[0, :4])"
   ]
  },
  {
   "cell_type": "code",
   "execution_count": 64,
   "metadata": {
    "collapsed": false
   },
   "outputs": [
    {
     "data": {
      "text/plain": [
       "(4.4866468548349108, 'Iris-setosa')"
      ]
     },
     "execution_count": 64,
     "metadata": {},
     "output_type": "execute_result"
    }
   ],
   "source": [
    "tuple([euclidean_distance(unknown, iris_data[0, :4]), iris_data[0,4]])"
   ]
  },
  {
   "cell_type": "code",
   "execution_count": 68,
   "metadata": {
    "collapsed": false
   },
   "outputs": [
    {
     "ename": "IndexError",
     "evalue": "arrays used as indices must be of integer (or boolean) type",
     "output_type": "error",
     "traceback": [
      "\u001b[0;31m---------------------------------------------------------------------------\u001b[0m",
      "\u001b[0;31mIndexError\u001b[0m                                Traceback (most recent call last)",
      "\u001b[0;32m<ipython-input-68-94c1af477899>\u001b[0m in \u001b[0;36m<module>\u001b[0;34m()\u001b[0m\n\u001b[0;32m----> 1\u001b[0;31m \u001b[0;34m[\u001b[0m\u001b[0mtuple\u001b[0m\u001b[0;34m(\u001b[0m\u001b[0;34m[\u001b[0m\u001b[0miris_data\u001b[0m\u001b[0;34m[\u001b[0m\u001b[0mx\u001b[0m\u001b[0;34m,\u001b[0m\u001b[0;36m0\u001b[0m\u001b[0;34m]\u001b[0m\u001b[0;34m,\u001b[0m \u001b[0;34m\"Huzzah\"\u001b[0m\u001b[0;34m]\u001b[0m\u001b[0;34m)\u001b[0m \u001b[0;32mfor\u001b[0m \u001b[0mx\u001b[0m \u001b[0;32min\u001b[0m \u001b[0miris_data\u001b[0m\u001b[0;34m]\u001b[0m\u001b[0;34m\u001b[0m\u001b[0m\n\u001b[0m",
      "\u001b[0;31mIndexError\u001b[0m: arrays used as indices must be of integer (or boolean) type"
     ]
    }
   ],
   "source": [
    "[tuple([iris_data[x,0], \"Huzzah\"]) for x in iris_data]"
   ]
  },
  {
   "cell_type": "code",
   "execution_count": 74,
   "metadata": {
    "collapsed": false
   },
   "outputs": [
    {
     "ename": "IndexError",
     "evalue": "arrays used as indices must be of integer (or boolean) type",
     "output_type": "error",
     "traceback": [
      "\u001b[0;31m---------------------------------------------------------------------------\u001b[0m",
      "\u001b[0;31mIndexError\u001b[0m                                Traceback (most recent call last)",
      "\u001b[0;32m<ipython-input-74-c034a9efbfa9>\u001b[0m in \u001b[0;36m<module>\u001b[0;34m()\u001b[0m\n\u001b[0;32m----> 1\u001b[0;31m \u001b[0;34m[\u001b[0m\u001b[0mtuple\u001b[0m\u001b[0;34m(\u001b[0m\u001b[0;34m[\u001b[0m\u001b[0meuclidean_distance\u001b[0m\u001b[0;34m(\u001b[0m\u001b[0munknown\u001b[0m\u001b[0;34m,\u001b[0m \u001b[0miris_data\u001b[0m\u001b[0;34m[\u001b[0m\u001b[0mx\u001b[0m\u001b[0;34m,\u001b[0m \u001b[0;34m:\u001b[0m\u001b[0;36m4\u001b[0m\u001b[0;34m]\u001b[0m\u001b[0;34m)\u001b[0m\u001b[0;34m,\u001b[0m \u001b[0miris_data\u001b[0m\u001b[0;34m[\u001b[0m\u001b[0mx\u001b[0m\u001b[0;34m,\u001b[0m\u001b[0;36m4\u001b[0m\u001b[0;34m]\u001b[0m\u001b[0;34m]\u001b[0m\u001b[0;34m)\u001b[0m \u001b[0;32mfor\u001b[0m \u001b[0mx\u001b[0m \u001b[0;32min\u001b[0m \u001b[0miris_data\u001b[0m\u001b[0;34m]\u001b[0m\u001b[0;34m\u001b[0m\u001b[0m\n\u001b[0m",
      "\u001b[0;31mIndexError\u001b[0m: arrays used as indices must be of integer (or boolean) type"
     ]
    }
   ],
   "source": [
    "[tuple([euclidean_distance(unknown, iris_data[x, :4]), iris_data[x,4]]) for x in iris_data]"
   ]
  },
  {
   "cell_type": "code",
   "execution_count": 96,
   "metadata": {
    "collapsed": false
   },
   "outputs": [
    {
     "data": {
      "text/plain": [
       "array([['4.48664685483', 'Iris-setosa'],\n",
       "       ['4.52769256907', 'Iris-setosa'],\n",
       "       ['4.67439835701', 'Iris-setosa'],\n",
       "       ['4.54862616622', 'Iris-setosa'],\n",
       "       ['4.52437841035', 'Iris-setosa'],\n",
       "       ['4.12431812546', 'Iris-setosa'],\n",
       "       ['4.5912961133', 'Iris-setosa'],\n",
       "       ['4.42492937797', 'Iris-setosa'],\n",
       "       ['4.70956473573', 'Iris-setosa'],\n",
       "       ['4.4955533586', 'Iris-setosa'],\n",
       "       ['4.35545634808', 'Iris-setosa'],\n",
       "       ['4.40794736811', 'Iris-setosa'],\n",
       "       ['4.60868744872', 'Iris-setosa'],\n",
       "       ['5.02991053598', 'Iris-setosa'],\n",
       "       ['4.59456200306', 'Iris-setosa'],\n",
       "       ['4.36004587132', 'Iris-setosa'],\n",
       "       ['4.4598206242', 'Iris-setosa'],\n",
       "       ['4.43846820423', 'Iris-setosa'],\n",
       "       ['4.10121933088', 'Iris-setosa'],\n",
       "       ['4.3931765273', 'Iris-setosa'],\n",
       "       ['4.15932686862', 'Iris-setosa'],\n",
       "       ['4.33128156554', 'Iris-setosa'],\n",
       "       ['4.9789557138', 'Iris-setosa'],\n",
       "       ['4.08044115262', 'Iris-setosa'],\n",
       "       ['4.17372735094', 'Iris-setosa'],\n",
       "       ['4.33474336034', 'Iris-setosa'],\n",
       "       ['4.24617474911', 'Iris-setosa'],\n",
       "       ['4.3783558558', 'Iris-setosa'],\n",
       "       ['4.45308881564', 'Iris-setosa'],\n",
       "       ['4.43395985548', 'Iris-setosa'],\n",
       "       ['4.39772668546', 'Iris-setosa'],\n",
       "       ['4.22610932182', 'Iris-setosa'],\n",
       "       ['4.52327315116', 'Iris-setosa'],\n",
       "       ['4.51442133612', 'Iris-setosa'],\n",
       "       ['4.4955533586', 'Iris-setosa'],\n",
       "       ['4.66368952654', 'Iris-setosa'],\n",
       "       ['4.48107130048', 'Iris-setosa'],\n",
       "       ['4.4955533586', 'Iris-setosa'],\n",
       "       ['4.7853944456', 'Iris-setosa'],\n",
       "       ['4.3965895874', 'Iris-setosa'],\n",
       "       ['4.54972526643', 'Iris-setosa'],\n",
       "       ['4.76759897642', 'Iris-setosa'],\n",
       "       ['4.7853944456', 'Iris-setosa'],\n",
       "       ['4.16413256273', 'Iris-setosa'],\n",
       "       ['4.02119385258', 'Iris-setosa'],\n",
       "       ['4.51220566907', 'Iris-setosa'],\n",
       "       ['4.36119249747', 'Iris-setosa'],\n",
       "       ['4.62925479964', 'Iris-setosa'],\n",
       "       ['4.37721372565', 'Iris-setosa'],\n",
       "       ['4.50111097397', 'Iris-setosa'],\n",
       "       ['1.28840987267', 'Iris-versicolor'],\n",
       "       ['1.09087121146', 'Iris-versicolor'],\n",
       "       ['1.1', 'Iris-versicolor'],\n",
       "       ['1.92353840617', 'Iris-versicolor'],\n",
       "       ['1.09087121146', 'Iris-versicolor'],\n",
       "       ['1.42126704036', 'Iris-versicolor'],\n",
       "       ['0.916515138991', 'Iris-versicolor'],\n",
       "       ['2.76586333719', 'Iris-versicolor'],\n",
       "       ['1.26095202129', 'Iris-versicolor'],\n",
       "       ['1.95192212959', 'Iris-versicolor'],\n",
       "       ['2.72396769438', 'Iris-versicolor'],\n",
       "       ['1.33790881603', 'Iris-versicolor'],\n",
       "       ['2.01742410018', 'Iris-versicolor'],\n",
       "       ['1.11355287257', 'Iris-versicolor'],\n",
       "       ['1.99749843554', 'Iris-versicolor'],\n",
       "       ['1.28452325787', 'Iris-versicolor'],\n",
       "       ['1.29228479833', 'Iris-versicolor'],\n",
       "       ['1.83575597507', 'Iris-versicolor'],\n",
       "       ['1.41067359797', 'Iris-versicolor'],\n",
       "       ['1.99499373433', 'Iris-versicolor'],\n",
       "       ['0.787400787401', 'Iris-versicolor'],\n",
       "       ['1.59687194227', 'Iris-versicolor'],\n",
       "       ['1.1', 'Iris-versicolor'],\n",
       "       ['1.3152946438', 'Iris-versicolor'],\n",
       "       ['1.37840487521', 'Iris-versicolor'],\n",
       "       ['1.26095202129', 'Iris-versicolor'],\n",
       "       ['1.19582607431', 'Iris-versicolor'],\n",
       "       ['0.818535277187', 'Iris-versicolor'],\n",
       "       ['1.1401754251', 'Iris-versicolor'],\n",
       "       ['2.26495033058', 'Iris-versicolor'],\n",
       "       ['2.12367605816', 'Iris-versicolor'],\n",
       "       ['2.24722050542', 'Iris-versicolor'],\n",
       "       ['1.81383571472', 'Iris-versicolor'],\n",
       "       ['0.943398113206', 'Iris-versicolor'],\n",
       "       ['1.41067359797', 'Iris-versicolor'],\n",
       "       ['1.08627804912', 'Iris-versicolor'],\n",
       "       ['1.06301458127', 'Iris-versicolor'],\n",
       "       ['1.52970585408', 'Iris-versicolor'],\n",
       "       ['1.64620776332', 'Iris-versicolor'],\n",
       "       ['1.84932420089', 'Iris-versicolor'],\n",
       "       ['1.67928556237', 'Iris-versicolor'],\n",
       "       ['1.1401754251', 'Iris-versicolor'],\n",
       "       ['1.77482393493', 'Iris-versicolor'],\n",
       "       ['2.7440845468', 'Iris-versicolor'],\n",
       "       ['1.63401346384', 'Iris-versicolor'],\n",
       "       ['1.61864140562', 'Iris-versicolor'],\n",
       "       ['1.55563491861', 'Iris-versicolor'],\n",
       "       ['1.37840487521', 'Iris-versicolor'],\n",
       "       ['2.81069386451', 'Iris-versicolor'],\n",
       "       ['1.63095064303', 'Iris-versicolor'],\n",
       "       ['0.92736184955', 'Iris-virginica'],\n",
       "       ['0.812403840464', 'Iris-virginica'],\n",
       "       ['1.17473401245', 'Iris-virginica'],\n",
       "       ['0.80622577483', 'Iris-virginica'],\n",
       "       ['0.761577310586', 'Iris-virginica'],\n",
       "       ['2.00997512422', 'Iris-virginica'],\n",
       "       ['1.78044938148', 'Iris-virginica'],\n",
       "       ['1.68522995464', 'Iris-virginica'],\n",
       "       ['1.17046999107', 'Iris-virginica'],\n",
       "       ['1.43874945699', 'Iris-virginica'],\n",
       "       ['0.458257569496', 'Iris-virginica'],\n",
       "       ['0.678232998313', 'Iris-virginica'],\n",
       "       ['0.714142842854', 'Iris-virginica'],\n",
       "       ['0.943398113206', 'Iris-virginica'],\n",
       "       ['0.583095189485', 'Iris-virginica'],\n",
       "       ['0.264575131106', 'Iris-virginica'],\n",
       "       ['0.754983443527', 'Iris-virginica'],\n",
       "       ['2.24722050542', 'Iris-virginica'],\n",
       "       ['2.33666428911', 'Iris-virginica'],\n",
       "       ['1.31148770486', 'Iris-virginica'],\n",
       "       ['0.860232526704', 'Iris-virginica'],\n",
       "       ['0.883176086633', 'Iris-virginica'],\n",
       "       ['2.18403296678', 'Iris-virginica'],\n",
       "       ['0.748331477355', 'Iris-virginica'],\n",
       "       ['0.80622577483', 'Iris-virginica'],\n",
       "       ['1.41067359797', 'Iris-virginica'],\n",
       "       ['0.74161984871', 'Iris-virginica'],\n",
       "       ['0.67082039325', 'Iris-virginica'],\n",
       "       ['0.663324958071', 'Iris-virginica'],\n",
       "       ['1.39642400438', 'Iris-virginica'],\n",
       "       ['1.59687194227', 'Iris-virginica'],\n",
       "       ['2.21359436212', 'Iris-virginica'],\n",
       "       ['0.62449979984', 'Iris-virginica'],\n",
       "       ['0.948683298051', 'Iris-virginica'],\n",
       "       ['1.2409673646', 'Iris-virginica'],\n",
       "       ['1.72626765016', 'Iris-virginica'],\n",
       "       ['0.583095189485', 'Iris-virginica'],\n",
       "       ['0.728010988928', 'Iris-virginica'],\n",
       "       ['0.74161984871', 'Iris-virginica'],\n",
       "       ['0.734846922835', 'Iris-virginica'],\n",
       "       ['0.640312423743', 'Iris-virginica'],\n",
       "       ['0.60827625303', 'Iris-virginica'],\n",
       "       ['0.812403840464', 'Iris-virginica'],\n",
       "       ['0.953939201417', 'Iris-virginica'],\n",
       "       ['0.754983443527', 'Iris-virginica'],\n",
       "       ['0.435889894354', 'Iris-virginica'],\n",
       "       ['0.787400787401', 'Iris-virginica'],\n",
       "       ['0.469041575982', 'Iris-virginica'],\n",
       "       ['0.4472135955', 'Iris-virginica'],\n",
       "       ['0.728010988928', 'Iris-virginica']], \n",
       "      dtype='|S32')"
      ]
     },
     "execution_count": 96,
     "metadata": {},
     "output_type": "execute_result"
    }
   ],
   "source": [
    "'''\n",
    "Part 2: Predictions\n",
    "Before we jump into making a general function,\n",
    "let's try to predict \n",
    "unknown = [ 6.3,  3.1 ,  5.1,  2.4] with 3 neighbors\n",
    "'''\n",
    "\n",
    "# define our variables\n",
    "unknown = [6.3,  3.1 ,  5.1,  2.4]\n",
    "k = 3\n",
    "\n",
    "# Make a list \"distances\" consisting of tuples\n",
    "# Each tuple should be\n",
    "# (euc_distance(unknown, data_point), species)\n",
    "# for each data_point in iris_data\n",
    "distances = [] # <FILL IN>\n",
    "\n",
    "for i in range(len(iris_data)):\n",
    "    distances.append(tuple([euclidean_distance(unknown, iris_data[i, :4]), iris_data[i,4]]))\n",
    "\n",
    "distances = np.array(distances)\n",
    "distances"
   ]
  },
  {
   "cell_type": "code",
   "execution_count": 75,
   "metadata": {
    "collapsed": true
   },
   "outputs": [],
   "source": [
    "# Grab the nearest k neighbors\n",
    "nearest = [] # <FILL IN>"
   ]
  },
  {
   "cell_type": "code",
   "execution_count": 94,
   "metadata": {
    "collapsed": false
   },
   "outputs": [
    {
     "data": {
      "text/plain": [
       "array([['4.48664685483'],\n",
       "       ['4.52769256907'],\n",
       "       ['4.67439835701'],\n",
       "       ['4.54862616622'],\n",
       "       ['4.52437841035'],\n",
       "       ['4.12431812546'],\n",
       "       ['4.5912961133'],\n",
       "       ['4.42492937797'],\n",
       "       ['4.70956473573'],\n",
       "       ['4.4955533586'],\n",
       "       ['4.35545634808'],\n",
       "       ['4.40794736811'],\n",
       "       ['4.60868744872'],\n",
       "       ['5.02991053598'],\n",
       "       ['4.59456200306'],\n",
       "       ['4.36004587132'],\n",
       "       ['4.4598206242'],\n",
       "       ['4.43846820423'],\n",
       "       ['4.10121933088'],\n",
       "       ['4.3931765273'],\n",
       "       ['4.15932686862'],\n",
       "       ['4.33128156554'],\n",
       "       ['4.9789557138'],\n",
       "       ['4.08044115262'],\n",
       "       ['4.17372735094'],\n",
       "       ['4.33474336034'],\n",
       "       ['4.24617474911'],\n",
       "       ['4.3783558558'],\n",
       "       ['4.45308881564'],\n",
       "       ['4.43395985548'],\n",
       "       ['4.39772668546'],\n",
       "       ['4.22610932182'],\n",
       "       ['4.52327315116'],\n",
       "       ['4.51442133612'],\n",
       "       ['4.4955533586'],\n",
       "       ['4.66368952654'],\n",
       "       ['4.48107130048'],\n",
       "       ['4.4955533586'],\n",
       "       ['4.7853944456'],\n",
       "       ['4.3965895874'],\n",
       "       ['4.54972526643'],\n",
       "       ['4.76759897642'],\n",
       "       ['4.7853944456'],\n",
       "       ['4.16413256273'],\n",
       "       ['4.02119385258'],\n",
       "       ['4.51220566907'],\n",
       "       ['4.36119249747'],\n",
       "       ['4.62925479964'],\n",
       "       ['4.37721372565'],\n",
       "       ['4.50111097397'],\n",
       "       ['1.28840987267'],\n",
       "       ['1.09087121146'],\n",
       "       ['1.1'],\n",
       "       ['1.92353840617'],\n",
       "       ['1.09087121146'],\n",
       "       ['1.42126704036'],\n",
       "       ['0.916515138991'],\n",
       "       ['2.76586333719'],\n",
       "       ['1.26095202129'],\n",
       "       ['1.95192212959'],\n",
       "       ['2.72396769438'],\n",
       "       ['1.33790881603'],\n",
       "       ['2.01742410018'],\n",
       "       ['1.11355287257'],\n",
       "       ['1.99749843554'],\n",
       "       ['1.28452325787'],\n",
       "       ['1.29228479833'],\n",
       "       ['1.83575597507'],\n",
       "       ['1.41067359797'],\n",
       "       ['1.99499373433'],\n",
       "       ['0.787400787401'],\n",
       "       ['1.59687194227'],\n",
       "       ['1.1'],\n",
       "       ['1.3152946438'],\n",
       "       ['1.37840487521'],\n",
       "       ['1.26095202129'],\n",
       "       ['1.19582607431'],\n",
       "       ['0.818535277187'],\n",
       "       ['1.1401754251'],\n",
       "       ['2.26495033058'],\n",
       "       ['2.12367605816'],\n",
       "       ['2.24722050542'],\n",
       "       ['1.81383571472'],\n",
       "       ['0.943398113206'],\n",
       "       ['1.41067359797'],\n",
       "       ['1.08627804912'],\n",
       "       ['1.06301458127'],\n",
       "       ['1.52970585408'],\n",
       "       ['1.64620776332'],\n",
       "       ['1.84932420089'],\n",
       "       ['1.67928556237'],\n",
       "       ['1.1401754251'],\n",
       "       ['1.77482393493'],\n",
       "       ['2.7440845468'],\n",
       "       ['1.63401346384'],\n",
       "       ['1.61864140562'],\n",
       "       ['1.55563491861'],\n",
       "       ['1.37840487521'],\n",
       "       ['2.81069386451'],\n",
       "       ['1.63095064303'],\n",
       "       ['0.92736184955'],\n",
       "       ['0.812403840464'],\n",
       "       ['1.17473401245'],\n",
       "       ['0.80622577483'],\n",
       "       ['0.761577310586'],\n",
       "       ['2.00997512422'],\n",
       "       ['1.78044938148'],\n",
       "       ['1.68522995464'],\n",
       "       ['1.17046999107'],\n",
       "       ['1.43874945699'],\n",
       "       ['0.458257569496'],\n",
       "       ['0.678232998313'],\n",
       "       ['0.714142842854'],\n",
       "       ['0.943398113206'],\n",
       "       ['0.583095189485'],\n",
       "       ['0.264575131106'],\n",
       "       ['0.754983443527'],\n",
       "       ['2.24722050542'],\n",
       "       ['2.33666428911'],\n",
       "       ['1.31148770486'],\n",
       "       ['0.860232526704'],\n",
       "       ['0.883176086633'],\n",
       "       ['2.18403296678'],\n",
       "       ['0.748331477355'],\n",
       "       ['0.80622577483'],\n",
       "       ['1.41067359797'],\n",
       "       ['0.74161984871'],\n",
       "       ['0.67082039325'],\n",
       "       ['0.663324958071'],\n",
       "       ['1.39642400438'],\n",
       "       ['1.59687194227'],\n",
       "       ['2.21359436212'],\n",
       "       ['0.62449979984'],\n",
       "       ['0.948683298051'],\n",
       "       ['1.2409673646'],\n",
       "       ['1.72626765016'],\n",
       "       ['0.583095189485'],\n",
       "       ['0.728010988928'],\n",
       "       ['0.74161984871'],\n",
       "       ['0.734846922835'],\n",
       "       ['0.640312423743'],\n",
       "       ['0.60827625303'],\n",
       "       ['0.812403840464'],\n",
       "       ['0.953939201417'],\n",
       "       ['0.754983443527'],\n",
       "       ['0.435889894354'],\n",
       "       ['0.787400787401'],\n",
       "       ['0.469041575982'],\n",
       "       ['0.4472135955'],\n",
       "       ['0.728010988928']], \n",
       "      dtype='|S32')"
      ]
     },
     "execution_count": 94,
     "metadata": {},
     "output_type": "execute_result"
    }
   ],
   "source": [
    "distances[:,0:1]"
   ]
  },
  {
   "cell_type": "code",
   "execution_count": 97,
   "metadata": {
    "collapsed": false
   },
   "outputs": [
    {
     "data": {
      "text/plain": [
       "array(['4.48664685483', 'Iris-setosa'], \n",
       "      dtype='|S32')"
      ]
     },
     "execution_count": 97,
     "metadata": {},
     "output_type": "execute_result"
    }
   ],
   "source": [
    "distances[0]"
   ]
  },
  {
   "cell_type": "code",
   "execution_count": 99,
   "metadata": {
    "collapsed": false
   },
   "outputs": [
    {
     "data": {
      "text/plain": [
       "numpy.string_"
      ]
     },
     "execution_count": 99,
     "metadata": {},
     "output_type": "execute_result"
    }
   ],
   "source": [
    "type(distances[0][0])"
   ]
  },
  {
   "cell_type": "code",
   "execution_count": 101,
   "metadata": {
    "collapsed": false
   },
   "outputs": [
    {
     "ename": "TypeError",
     "evalue": "only length-1 arrays can be converted to Python scalars",
     "output_type": "error",
     "traceback": [
      "\u001b[0;31m---------------------------------------------------------------------------\u001b[0m",
      "\u001b[0;31mTypeError\u001b[0m                                 Traceback (most recent call last)",
      "\u001b[0;32m<ipython-input-101-00f89d69e450>\u001b[0m in \u001b[0;36m<module>\u001b[0;34m()\u001b[0m\n\u001b[0;32m----> 1\u001b[0;31m \u001b[0mfloat\u001b[0m\u001b[0;34m(\u001b[0m\u001b[0mdistances\u001b[0m\u001b[0;34m[\u001b[0m\u001b[0;34m:\u001b[0m\u001b[0;34m,\u001b[0m\u001b[0;36m0\u001b[0m\u001b[0;34m]\u001b[0m\u001b[0;34m)\u001b[0m\u001b[0;34m\u001b[0m\u001b[0m\n\u001b[0m",
      "\u001b[0;31mTypeError\u001b[0m: only length-1 arrays can be converted to Python scalars"
     ]
    }
   ],
   "source": [
    "float(distances[:,0])"
   ]
  },
  {
   "cell_type": "code",
   "execution_count": null,
   "metadata": {
    "collapsed": true
   },
   "outputs": [],
   "source": []
  }
 ],
 "metadata": {
  "anaconda-cloud": {},
  "kernelspec": {
   "display_name": "Python [Root]",
   "language": "python",
   "name": "Python [Root]"
  },
  "language_info": {
   "codemirror_mode": {
    "name": "ipython",
    "version": 2
   },
   "file_extension": ".py",
   "mimetype": "text/x-python",
   "name": "python",
   "nbconvert_exporter": "python",
   "pygments_lexer": "ipython2",
   "version": "2.7.12"
  }
 },
 "nbformat": 4,
 "nbformat_minor": 0
}
