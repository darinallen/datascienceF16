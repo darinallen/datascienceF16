{
 "cells": [
  {
   "cell_type": "code",
   "execution_count": null,
   "metadata": {
    "collapsed": false
   },
   "outputs": [],
   "source": [
    "%%html\n",
    "<link rel=\"stylesheet\" href=\"static/hyrule.css\" type=\"text/css\">"
   ]
  },
  {
   "cell_type": "code",
   "execution_count": null,
   "metadata": {
    "collapsed": false
   },
   "outputs": [],
   "source": [
    "# Imports numpy as np and matplotlib.pylab as plt\n",
    "%pylab inline"
   ]
  },
  {
   "cell_type": "code",
   "execution_count": null,
   "metadata": {
    "collapsed": false
   },
   "outputs": [],
   "source": [
    "import pandas as pd\n",
    "import seaborn as sns\n",
    "from __future__ import division\n",
    "pd.set_option('display.max_rows', 500)\n",
    "pd.set_option('display.max_columns', 500)\n",
    "pd.set_option('display.width', 1000)\n",
    "plt.style.use('ggplot')"
   ]
  },
  {
   "cell_type": "code",
   "execution_count": null,
   "metadata": {
    "collapsed": false
   },
   "outputs": [],
   "source": [
    "ames = pd.read_csv(\"../data/ames_train.csv\", header=0, na_values=\"?\")"
   ]
  },
  {
   "cell_type": "code",
   "execution_count": null,
   "metadata": {
    "collapsed": false
   },
   "outputs": [],
   "source": [
    "ames.head()"
   ]
  },
  {
   "cell_type": "code",
   "execution_count": null,
   "metadata": {
    "collapsed": false
   },
   "outputs": [],
   "source": [
    "ames.describe()"
   ]
  },
  {
   "cell_type": "code",
   "execution_count": null,
   "metadata": {
    "collapsed": false
   },
   "outputs": [],
   "source": [
    "ames.LotArea.describe()"
   ]
  },
  {
   "cell_type": "code",
   "execution_count": null,
   "metadata": {
    "collapsed": false
   },
   "outputs": [],
   "source": [
    "neighborhood_groups = ames.groupby(\"Neighborhood\")\n",
    "neighborhood_groups.describe()"
   ]
  },
  {
   "cell_type": "code",
   "execution_count": null,
   "metadata": {
    "collapsed": false
   },
   "outputs": [],
   "source": [
    "neighborhood_groups.describe()[[\"SalePrice\", \"LotArea\", \"YearBuilt\"]]"
   ]
  },
  {
   "cell_type": "code",
   "execution_count": null,
   "metadata": {
    "collapsed": false
   },
   "outputs": [],
   "source": [
    "neighborhood_groups.SalePrice.agg([\"min\", \"max\", \"mean\"]).sort_values(by=\"mean\")"
   ]
  },
  {
   "cell_type": "code",
   "execution_count": null,
   "metadata": {
    "collapsed": false
   },
   "outputs": [],
   "source": [
    "neighborhood_groups.SalePrice.agg([\"mean\"]).sort_values(by=\"mean\").plot(kind=\"bar\")"
   ]
  },
  {
   "cell_type": "code",
   "execution_count": null,
   "metadata": {
    "collapsed": false
   },
   "outputs": [],
   "source": []
  },
  {
   "cell_type": "code",
   "execution_count": null,
   "metadata": {
    "collapsed": false
   },
   "outputs": [],
   "source": [
    "neighborhood_groups[[\"SalePrice\", \"LotArea\", \"YearBuilt\"]].mean()"
   ]
  },
  {
   "cell_type": "code",
   "execution_count": null,
   "metadata": {
    "collapsed": false
   },
   "outputs": [],
   "source": [
    "neighborhood_and_bedroomabvgr = ames.groupby([\"Neighborhood\", \"BedroomAbvGr\"])\n",
    "neighborhood_and_bedroomabvgr.describe()[[\"SalePrice\"]] # Limits the describe to just SalePrice"
   ]
  },
  {
   "cell_type": "code",
   "execution_count": null,
   "metadata": {
    "collapsed": false
   },
   "outputs": [],
   "source": [
    "# I believe this code pivots the data to see for each year (index/rows), what was the median (default aggfunc argument) SalePrice (value) of homes sold in each neighborhood (columns)\n",
    "pivoted_years = ames.pivot_table(values='SalePrice',\n",
    "                 columns='Neighborhood',\n",
    "                 index='YearBuilt')\n",
    "pivoted_years"
   ]
  },
  {
   "cell_type": "code",
   "execution_count": null,
   "metadata": {
    "collapsed": false
   },
   "outputs": [],
   "source": [
    "ames.SalePrice.hist()"
   ]
  },
  {
   "cell_type": "code",
   "execution_count": null,
   "metadata": {
    "collapsed": false
   },
   "outputs": [],
   "source": [
    "ames.YearBuilt.hist()"
   ]
  },
  {
   "cell_type": "code",
   "execution_count": null,
   "metadata": {
    "collapsed": false
   },
   "outputs": [],
   "source": [
    "ames.LotArea.hist()"
   ]
  },
  {
   "cell_type": "code",
   "execution_count": null,
   "metadata": {
    "collapsed": false
   },
   "outputs": [],
   "source": [
    "ames[[\"SalePrice\", \"YearBuilt\"]].hist()"
   ]
  },
  {
   "cell_type": "code",
   "execution_count": null,
   "metadata": {
    "collapsed": false
   },
   "outputs": [],
   "source": [
    "numerics = ['int16', 'int32', 'int64', 'float16', 'float32', 'float64']\n",
    "\n",
    "ames_numerics = ames.select_dtypes(include=numerics)"
   ]
  },
  {
   "cell_type": "code",
   "execution_count": null,
   "metadata": {
    "collapsed": false
   },
   "outputs": [],
   "source": [
    "def gen_hist(dataframe, cols):\n",
    "    for i in range(len(cols)):\n",
    "        dataframe[[cols[i]]].hist()\n",
    "        \n",
    "# gen_hist(ames_numerics, ames_numerics.columns)"
   ]
  },
  {
   "cell_type": "code",
   "execution_count": null,
   "metadata": {
    "collapsed": false
   },
   "outputs": [],
   "source": [
    "# Scatter plot of SalePrice vs LotArea\n",
    "\n",
    "plt.figure(figsize=(8, 6), dpi=80)\n",
    "plt.subplot(1, 1, 1)\n",
    "plt.plot(ames.SalePrice, ames.LotArea, '.')\n",
    "\n",
    "# Looks like there are some outliers of large LotArea properties being sold for less than you might expect.\n",
    "# Maybe something was wrong with the properties, or maybe it was family members transferring property to one another for cheap?"
   ]
  },
  {
   "cell_type": "code",
   "execution_count": null,
   "metadata": {
    "collapsed": false
   },
   "outputs": [],
   "source": [
    "cols = ['SalePrice', 'YearBuilt', 'LotArea', 'OverallQual', 'OverallCond',]\n",
    "pd.scatter_matrix(ames[cols], figsize=(12, 12))"
   ]
  },
  {
   "cell_type": "code",
   "execution_count": null,
   "metadata": {
    "collapsed": false
   },
   "outputs": [],
   "source": [
    "yearbuilt_grouped = ames.groupby(\"YearBuilt\")\n",
    "\n",
    "plt.figure()\n",
    "yearbuilt_grouped.SalePrice.agg(['mean']).plot()\n",
    "\n",
    "plt.figure()\n",
    "yearbuilt_grouped.SalePrice.agg(['sum']).plot()"
   ]
  },
  {
   "cell_type": "code",
   "execution_count": null,
   "metadata": {
    "collapsed": false
   },
   "outputs": [],
   "source": [
    "yearsold_grouped = ames.groupby(\"YrSold\")\n",
    "\n",
    "plt.figure()\n",
    "yearsold_grouped.SalePrice.agg(['mean']).plot()\n",
    "\n",
    "plt.figure()\n",
    "yearsold_grouped.SalePrice.agg(['sum']).plot()"
   ]
  },
  {
   "cell_type": "code",
   "execution_count": null,
   "metadata": {
    "collapsed": true
   },
   "outputs": [],
   "source": []
  }
 ],
 "metadata": {
  "anaconda-cloud": {},
  "kernelspec": {
   "display_name": "Python [Root]",
   "language": "python",
   "name": "Python [Root]"
  },
  "language_info": {
   "codemirror_mode": {
    "name": "ipython",
    "version": 2
   },
   "file_extension": ".py",
   "mimetype": "text/x-python",
   "name": "python",
   "nbconvert_exporter": "python",
   "pygments_lexer": "ipython2",
   "version": "2.7.12"
  }
 },
 "nbformat": 4,
 "nbformat_minor": 0
}
