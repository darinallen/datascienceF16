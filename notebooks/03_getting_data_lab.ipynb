{
 "cells": [
  {
   "cell_type": "code",
   "execution_count": 1,
   "metadata": {
    "collapsed": true
   },
   "outputs": [],
   "source": [
    "import requests\n",
    "from bs4 import BeautifulSoup"
   ]
  },
  {
   "cell_type": "code",
   "execution_count": 2,
   "metadata": {
    "collapsed": false
   },
   "outputs": [],
   "source": [
    "##### INDEED #####\n",
    "\n",
    "# a job posting website (as well as resume hosting)\n",
    "# scrape some (or A LOT) of job postings from indeed for the job \"data scientist\"\n",
    "# Plan of Action:\n",
    "# http://www.indeed.com/jobs?q=data+scientist&l=San+Francisco%2C+CA\n",
    "# 1. Figure out the HTML for getting the summaries (by doing it yourself!)\n",
    "     # <span class=summary>"
   ]
  },
  {
   "cell_type": "code",
   "execution_count": 3,
   "metadata": {
    "collapsed": false
   },
   "outputs": [
    {
     "data": {
      "text/plain": [
       "u'Requirements for all data scientists. Expert in Python and core libraries used by data scientists (Numpy, Scipy, Pandas, Scikit-learn, Matplotlib/Seaborn, etc.)...'"
      ]
     },
     "execution_count": 3,
     "metadata": {},
     "output_type": "execute_result"
    }
   ],
   "source": [
    "# 2. Scrape the summary\n",
    "\n",
    "r = requests.get('http://www.indeed.com/jobs?q=data+scientist&l=San+Francisco%2C+CA')\n",
    "\n",
    "b = BeautifulSoup(r.text, 'html.parser')\n",
    "\n",
    "b.prettify()\n",
    "\n",
    "summary_tags = b.find_all('span', attrs={'class': \"summary\"})\n",
    "\n",
    "summary_texts = [t.text.lower().strip() for t in summary_tags]\n",
    "\n",
    "summary_tags[0].text\n",
    "\n",
    "#for summary in summary_tags:\n",
    "#    print summary.text\n",
    "#    print \"\""
   ]
  },
  {
   "cell_type": "code",
   "execution_count": 4,
   "metadata": {
    "collapsed": true
   },
   "outputs": [],
   "source": [
    "# 3. Figure out how to change the page by changing the URL (hint, click the next page button and see how the url changes)\n",
    "\n",
    "# 1- http://www.indeed.com/q-data-scientist-l-San-Francisco,-CA-jobs.html\n",
    "# 2- http://www.indeed.com/jobs?q=data+scientist&l=San+Francisco%2C+CA&start=10&pp=\n",
    "# 3- http://www.indeed.com/jobs?q=data+scientist&l=San+Francisco%2C+CA&start=20&pp=\n",
    "\n",
    "#page = \"10\" ## multiple of 10\n",
    "#r = requests.get('http://www.indeed.com/jobs?q=data+scientist&l=San+Francisco%2C+CA'+page)\n",
    "#b = BeautifulSoup(r.text, 'html.parser')\n",
    "    \n",
    "# 4. BONUS: count the most used words in the sumaries"
   ]
  },
  {
   "cell_type": "code",
   "execution_count": 5,
   "metadata": {
    "collapsed": true
   },
   "outputs": [],
   "source": [
    "#### UFO ######\n",
    "\n",
    "# SCRAPE ALL SIGHTINGS in 2016\n",
    "# Plan of action\n",
    "# 1. Figure out the pattern to get a certain year and month from nuforc\n",
    "# 2. Scrape each sightings\n",
    "# 3. Make a dataframe out of it\n",
    "# 4. make a day column\n",
    "# 5. graph each day in 2016 and see which day had the most! (Is it July 4th?)"
   ]
  },
  {
   "cell_type": "code",
   "execution_count": 6,
   "metadata": {
    "collapsed": true
   },
   "outputs": [],
   "source": [
    "##### TWITTER ######\n",
    "\n",
    "# Create a dataframe where each row is a tweet that uses any tag (or tags) you choose!\n",
    "# include a column for date, text, user handle, user name, and user image\n",
    "# You can use the normal query method and not stream for this!"
   ]
  },
  {
   "cell_type": "code",
   "execution_count": null,
   "metadata": {
    "collapsed": true
   },
   "outputs": [],
   "source": []
  }
 ],
 "metadata": {
  "anaconda-cloud": {},
  "kernelspec": {
   "display_name": "Python [Root]",
   "language": "python",
   "name": "Python [Root]"
  },
  "language_info": {
   "codemirror_mode": {
    "name": "ipython",
    "version": 2
   },
   "file_extension": ".py",
   "mimetype": "text/x-python",
   "name": "python",
   "nbconvert_exporter": "python",
   "pygments_lexer": "ipython2",
   "version": "2.7.12"
  }
 },
 "nbformat": 4,
 "nbformat_minor": 0
}
