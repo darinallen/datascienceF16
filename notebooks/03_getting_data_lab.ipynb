{
 "cells": [
  {
   "cell_type": "code",
   "execution_count": 11,
   "metadata": {
    "collapsed": true
   },
   "outputs": [],
   "source": [
    "import requests\n",
    "from bs4 import BeautifulSoup"
   ]
  },
  {
   "cell_type": "code",
   "execution_count": 12,
   "metadata": {
    "collapsed": false
   },
   "outputs": [],
   "source": [
    "##### INDEED #####\n",
    "\n",
    "# a job posting website (as well as resume hosting)\n",
    "# scrape some (or A LOT) of job postings from indeed for the job \"data scientist\"\n",
    "# Plan of Action:\n",
    "# http://www.indeed.com/jobs?q=data+scientist&l=San+Francisco%2C+CA\n",
    "# 1. Figure out the HTML for getting the summaries (by doing it yourself!)\n",
    "     # <span class=summary>"
   ]
  },
  {
   "cell_type": "code",
   "execution_count": 32,
   "metadata": {
    "collapsed": false
   },
   "outputs": [
    {
     "name": "stdout",
     "output_type": "stream",
     "text": [
      "Requirements for all data scientists. Expert in Python and core libraries used by data scientists (Numpy, Scipy, Pandas, Scikit-learn, Matplotlib/Seaborn, etc.)...\n",
      "\n",
      "Join Marin Software as a Data Scientist to apply your real world experience of data analysis and machine learning techniques on vast data sets....\n",
      "\n",
      "Builds partnerships with business users, analysts, and data scientists to understand data, reporting, and analytic requirements....\n",
      "\n",
      "\n",
      "We think of Emmett, the CEO, as Twitch’s original data scientist. Professional work as a Data Scientist at a web/mobile product company is preferred, but any...\n",
      "\n",
      "\n",
      "The most commons will be SQL for data extraction, R for data analysis and a. Combination of R and Tableau for data visualization ....\n",
      "\n",
      "\n",
      "Develop machine learning and data mining algorithms to extract meaningful information from thousand to millions articles....\n",
      "\n",
      "\n",
      "The Data Scientist function enables and empowers macys.com marketing and site personalization with predictive modeling, forecasting, data mining, experimental...\n",
      "\n",
      "\n",
      "We are looking for a sharp, disciplined, and highly quantitative individual who has a passion for data mining and data analytics....\n",
      "\n",
      "\n",
      "Senior Data Scientist. Integrating with external data sources and APIs to discover interesting trends. Building machine learning models from development through...\n",
      "\n",
      "\n",
      "Apply your expertise in quantitative analysis, data mining, and the presentation of data to see beyond the numbers and understand how our users interact with...\n",
      "\n",
      "\n",
      "You will develop tools for analytics of both health data and financial data. We are looking for an experienced, full-stack Data Scientist to join the Analytics...\n",
      "\n",
      "\n",
      "Endless ideas about how to leverage Yelp's unique data set. Interested in applying? In this role you’ll be tackling a variety of projects ranging from design...\n",
      "\n",
      "\n",
      "Probability, statistics, data mining, predictive modeling, experimental design, computational analytics, econometric modeling....\n",
      "\n",
      "As a Senior Data Scientist, you will be in a group of data scientists and analysts that focus on Chegg’s Learning Services products....\n",
      "\n",
      "Qualifications 2-3+ years in SMB or consumer lending risk management Hands-on experience in predictive modeling methods, data mining/machine learning techniques...\n",
      "\n"
     ]
    }
   ],
   "source": [
    "# 2. Scrape the summary\n",
    "\n",
    "r = requests.get('http://www.indeed.com/jobs?q=data+scientist&l=San+Francisco%2C+CA')\n",
    "\n",
    "b = BeautifulSoup(r.text, 'html.parser')\n",
    "\n",
    "b.prettify()\n",
    "\n",
    "summaries = b.find_all('span', attrs={'class': \"summary\"})\n",
    "\n",
    "#summaries[0].text()\n",
    "\n",
    "for summary in summaries:\n",
    "    print summary.text\n",
    "    print \"\""
   ]
  },
  {
   "cell_type": "code",
   "execution_count": null,
   "metadata": {
    "collapsed": true
   },
   "outputs": [],
   "source": [
    "# 3. Figure out how to change the page by changing the URL (hint, click the next page button and see how the url changes)\n",
    "\n",
    "# 1- http://www.indeed.com/q-data-scientist-l-San-Francisco,-CA-jobs.html\n",
    "# 2- http://www.indeed.com/jobs?q=data+scientist&l=San+Francisco%2C+CA&start=10&pp=\n",
    "# 3- http://www.indeed.com/jobs?q=data+scientist&l=San+Francisco%2C+CA&start=20&pp=\n",
    "\n",
    "r = requests.get('http://www.indeed.com/jobs?q=data+scientist&l=San+Francisco%2C+CA')\n",
    "\n",
    "b = BeautifulSoup(r.text, 'html.parser')\n",
    "\n",
    "b.prettify()\n",
    "\n",
    "summaries = b.find_all('span', attrs={'class': \"summary\"})\n",
    "\n",
    "#summaries[0].text\n",
    "\n",
    "for summary in summaries:\n",
    "    print summary\n",
    "    print \"\"    \n",
    "    \n",
    " \n",
    "    \n",
    "# 4. BONUS: count the most used words in the sumaries"
   ]
  },
  {
   "cell_type": "code",
   "execution_count": null,
   "metadata": {
    "collapsed": true
   },
   "outputs": [],
   "source": [
    "#### UFO ######\n",
    "\n",
    "# SCRAPE ALL SIGHTINGS in 2016\n",
    "# Plan of action\n",
    "# 1. Figure out the pattern to get a certain year and month from nuforc\n",
    "# 2. Scrape each sightings\n",
    "# 3. Make a dataframe out of it\n",
    "# 4. make a day column\n",
    "# 5. graph each day in 2016 and see which day had the most! (Is it July 4th?)"
   ]
  },
  {
   "cell_type": "code",
   "execution_count": null,
   "metadata": {
    "collapsed": true
   },
   "outputs": [],
   "source": [
    "##### TWITTER ######\n",
    "\n",
    "# Create a dataframe where each row is a tweet that uses any tag (or tags) you choose!\n",
    "# include a column for date, text, user handle, user name, and user image\n",
    "# You can use the normal query method and not stream for this!"
   ]
  }
 ],
 "metadata": {
  "anaconda-cloud": {},
  "kernelspec": {
   "display_name": "Python [Root]",
   "language": "python",
   "name": "Python [Root]"
  },
  "language_info": {
   "codemirror_mode": {
    "name": "ipython",
    "version": 2
   },
   "file_extension": ".py",
   "mimetype": "text/x-python",
   "name": "python",
   "nbconvert_exporter": "python",
   "pygments_lexer": "ipython2",
   "version": "2.7.12"
  }
 },
 "nbformat": 4,
 "nbformat_minor": 0
}
