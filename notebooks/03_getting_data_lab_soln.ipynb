{
 "cells": [
  {
   "cell_type": "code",
   "execution_count": 1,
   "metadata": {
    "collapsed": true
   },
   "outputs": [],
   "source": [
    "import requests\n",
    "from bs4 import BeautifulSoup\n",
    "import pandas as pd"
   ]
  },
  {
   "cell_type": "code",
   "execution_count": 2,
   "metadata": {
    "collapsed": false
   },
   "outputs": [],
   "source": [
    "##### INDEED #####\n",
    "\n",
    "# a job posting website (as well as resume hosting)\n",
    "\n",
    "\n",
    "# scrape some (or A LOT) of job postings from indeed for the job \"data scientist\"\n",
    "\n",
    "\n",
    "# Plan of Action:\n",
    "# http://www.indeed.com/jobs?q=data+scientist&l=San+Francisco%2C+CA\n",
    "# 1. Figure out the url for getting the summaries (by doing it yourself!)\n",
    "# 2. Scrape the summary\n",
    "# 3. Figure out how to change the page by changing the URL (hint, click the next page button and see how the url changes)\n",
    "# 4. BONUS: count the most used words in the sumaries\n"
   ]
  },
  {
   "cell_type": "code",
   "execution_count": 2,
   "metadata": {
    "collapsed": false
   },
   "outputs": [],
   "source": [
    "# 1. Figure out the url for getting the summaries (by doing it yourself!)\n",
    "r = requests.get('http://www.indeed.com/jobs?q=data+scientist&l=San+Francisco,+CA')\n",
    "b = BeautifulSoup(r.text, 'html.parser')"
   ]
  },
  {
   "cell_type": "code",
   "execution_count": 11,
   "metadata": {
    "collapsed": false
   },
   "outputs": [
    {
     "name": "stdout",
     "output_type": "stream",
     "text": [
      "<class 'bs4.element.ResultSet'>\n"
     ]
    }
   ],
   "source": [
    "# 2. Scrape the summary\n",
    "summary_tags = b.findAll('span', attrs={'class':'summary'})\n",
    "print type(summary_tags)"
   ]
  },
  {
   "cell_type": "code",
   "execution_count": 13,
   "metadata": {
    "collapsed": false
   },
   "outputs": [
    {
     "name": "stdout",
     "output_type": "stream",
     "text": [
      "Requirements for all data scientists. Expert in Python and core libraries used by data scientists (Numpy, Scipy, Pandas, Scikit-learn, Matplotlib/Seaborn, etc.)...\n"
     ]
    },
    {
     "data": {
      "text/plain": [
       "u'requirements for all data scientists. expert in python and core libraries used by data scientists (numpy, scipy, pandas, scikit-learn, matplotlib/seaborn, etc.)...'"
      ]
     },
     "execution_count": 13,
     "metadata": {},
     "output_type": "execute_result"
    }
   ],
   "source": [
    "print summary_tags[0].text\n",
    "\n",
    "summary_texts = [t.text.lower().strip() for t in summary_tags]\n",
    "summary_texts[0]"
   ]
  },
  {
   "cell_type": "code",
   "execution_count": 7,
   "metadata": {
    "collapsed": true
   },
   "outputs": [],
   "source": [
    "# 3. Figure out how to change the page by changing the URL (hint, click the next page button and see how the url changes)\n",
    "\n",
    "page = '10'## multiple of 10\n",
    "r = requests.get('http://www.indeed.com/jobs?q=data+scientist&l=San+Francisco,+CA&start='+page) \n",
    "b = BeautifulSoup(r.text, 'html.parser')"
   ]
  },
  {
   "cell_type": "code",
   "execution_count": 14,
   "metadata": {
    "collapsed": false
   },
   "outputs": [
    {
     "name": "stdout",
     "output_type": "stream",
     "text": [
      "requirements for all data scientists. expert in python and core libraries used by data scientists (numpy, scipy, pandas, scikit-learn, matplotlib/seaborn, etc.)... builds partnerships with business users, analysts, and data scientists to understand data, reporting, and analytic requirements.... join marin software as a data scientist to apply your real world experience of data analysis and machine learning techniques on vast data sets.... the most commons will be sql for data extraction, r for data analysis and a. combination of r and tableau for data visualization .... we think of emmett, the ceo, as twitch’s original data scientist. professional work as a data scientist at a web/mobile product company is preferred, but any... develop machine learning and data mining algorithms to extract meaningful information from thousand to millions articles.... the data scientist function enables and empowers macys.com marketing and site personalization with predictive modeling, forecasting, data mining, experimental... we are looking for a sharp, disciplined, and highly quantitative individual who has a passion for data mining and data analytics.... senior data scientist. integrating with external data sources and apis to discover interesting trends. building machine learning models from development through... apply your expertise in quantitative analysis, data mining, and the presentation of data to see beyond the numbers and understand how our users interact with... you will develop tools for analytics of both health data and financial data. we are looking for an experienced, full-stack data scientist to join the analytics... endless ideas about how to leverage yelp's unique data set. interested in applying? in this role you’ll be tackling a variety of projects ranging from design... probability, statistics, data mining, predictive modeling, experimental design, computational analytics, econometric modeling.... qualifications 2-3+ years in smb or consumer lending risk management hands-on experience in predictive modeling methods, data mining/machine learning techniques... in addition, you will help find the appropriate machine learning / data mining algorithms to answer these questions....\n"
     ]
    },
    {
     "data": {
      "text/plain": [
       "[(u'algorithms', 2),\n",
       " (u'predictive', 3),\n",
       " (u'we', 3),\n",
       " (u'mining,', 3),\n",
       " (u'from', 3),\n",
       " (u'mining', 3),\n",
       " (u'with', 3),\n",
       " (u'will', 3),\n",
       " (u'as', 3),\n",
       " (u'scientist', 4),\n",
       " (u'machine', 4),\n",
       " (u'learning', 5),\n",
       " (u'of', 6),\n",
       " (u'a', 6),\n",
       " (u'in', 7),\n",
       " (u'the', 7),\n",
       " (u'for', 8),\n",
       " (u'to', 9),\n",
       " (u'and', 15),\n",
       " (u'data', 26)]"
      ]
     },
     "execution_count": 14,
     "metadata": {},
     "output_type": "execute_result"
    }
   ],
   "source": [
    "# 4. BONUS: count the most used words in the sumaries\n",
    "single_block_of_text = reduce(lambda x,y: x+' '+y, summary_texts)\n",
    "print single_block_of_text\n",
    "\n",
    "words_tokenized = single_block_of_text.split(' ')\n",
    "words_tokenized[:10]\n",
    "\n",
    "from collections import Counter\n",
    "\n",
    "sorted(Counter(words_tokenized).items(), key = lambda x:x[1])[-20:]"
   ]
  },
  {
   "cell_type": "code",
   "execution_count": 9,
   "metadata": {
    "collapsed": false
   },
   "outputs": [],
   "source": [
    "#### UFO ######\n",
    "\n",
    "# SCRAPE ALL SIGHTINGS in 2016\n",
    "# Plan of action\n",
    "# 1. Figure out the pattern to get a certain year and month from nuforc\n",
    "# 2. Scrape each sightings\n",
    "# 3. Make a dataframe out of it\n",
    "# 4. make a day column\n",
    "# 5. graph each day in 2016 and see which day had the most! (Is it July 4th?)\n"
   ]
  },
  {
   "cell_type": "code",
   "execution_count": 3,
   "metadata": {
    "collapsed": false
   },
   "outputs": [],
   "source": [
    "# 1. Figure out the pattern to get a certain year and month from nuforc\n",
    "# 2. Scrape each sightings\n",
    "\n",
    "yr_months = ['201601', '201602', '201603', '201604', '201605', '201606', '201607', '201608']\n",
    "\n",
    "ufo_sightings = {\n",
    "        'Date':[],\n",
    "        'City':[],\n",
    "        'State':[],\n",
    "        'Shape':[],\n",
    "        'Summary':[]\n",
    "    }\n",
    "\n",
    "for month in yr_months:\n",
    "    url = 'http://www.nuforc.org/webreports/ndxe' + month + '.html'\n",
    "    r = requests.get(url)\n",
    "    b = BeautifulSoup(r.text, 'html.parser')\n",
    "    for tr in b.findAll('tr', attrs = {'valign':'TOP'}):\n",
    "        # the findChildren method returns all children underneath it\n",
    "        ufo_sighting_info = []\n",
    "        for child in tr.findChildren():\n",
    "            ufo_sighting_info.append(child.text)\n",
    "        ufo_sightings['Date'].append(ufo_sighting_info[0])\n",
    "        ufo_sightings['City'].append(ufo_sighting_info[3])\n",
    "        ufo_sightings['State'].append(ufo_sighting_info[5])\n",
    "        ufo_sightings['Shape'].append(ufo_sighting_info[7])\n",
    "        ufo_sightings['Summary'].append(ufo_sighting_info[12])"
   ]
  },
  {
   "cell_type": "code",
   "execution_count": 5,
   "metadata": {
    "collapsed": false
   },
   "outputs": [
    {
     "data": {
      "text/html": [
       "<div style=\"max-height:1000px;max-width:1500px;overflow:auto;\">\n",
       "<table border=\"1\" class=\"dataframe\">\n",
       "  <thead>\n",
       "    <tr style=\"text-align: right;\">\n",
       "      <th></th>\n",
       "      <th>City</th>\n",
       "      <th>Date</th>\n",
       "      <th>Shape</th>\n",
       "      <th>State</th>\n",
       "      <th>Summary</th>\n",
       "    </tr>\n",
       "  </thead>\n",
       "  <tbody>\n",
       "    <tr>\n",
       "      <th>0</th>\n",
       "      <td>                            Stanton</td>\n",
       "      <td> 1/31/16 23:10</td>\n",
       "      <td> Triangle</td>\n",
       "      <td> TX</td>\n",
       "      <td>         Flying Triangle object Martin County, TX.</td>\n",
       "    </tr>\n",
       "    <tr>\n",
       "      <th>1</th>\n",
       "      <td> Emigrant Pass (near; foothills of)</td>\n",
       "      <td> 1/31/16 23:00</td>\n",
       "      <td>    Other</td>\n",
       "      <td> OR</td>\n",
       "      <td> Seen a object with a solid orange bar that lit...</td>\n",
       "    </tr>\n",
       "    <tr>\n",
       "      <th>2</th>\n",
       "      <td>                          Allentown</td>\n",
       "      <td> 1/31/16 22:00</td>\n",
       "      <td> Fireball</td>\n",
       "      <td> PA</td>\n",
       "      <td> Yellow beam of light falling from the sky, wit...</td>\n",
       "    </tr>\n",
       "    <tr>\n",
       "      <th>3</th>\n",
       "      <td>                          Sandpoint</td>\n",
       "      <td> 1/31/16 20:57</td>\n",
       "      <td> Fireball</td>\n",
       "      <td> ID</td>\n",
       "      <td> Object came in from west to east below approx ...</td>\n",
       "    </tr>\n",
       "    <tr>\n",
       "      <th>4</th>\n",
       "      <td>                      West Suffield</td>\n",
       "      <td> 1/31/16 20:46</td>\n",
       "      <td>   Circle</td>\n",
       "      <td> CT</td>\n",
       "      <td> \\tI saw 3 orange lights in a formation coming ...</td>\n",
       "    </tr>\n",
       "  </tbody>\n",
       "</table>\n",
       "</div>"
      ],
      "text/plain": [
       "                                 City           Date     Shape State  \\\n",
       "0                             Stanton  1/31/16 23:10  Triangle    TX   \n",
       "1  Emigrant Pass (near; foothills of)  1/31/16 23:00     Other    OR   \n",
       "2                           Allentown  1/31/16 22:00  Fireball    PA   \n",
       "3                           Sandpoint  1/31/16 20:57  Fireball    ID   \n",
       "4                       West Suffield  1/31/16 20:46    Circle    CT   \n",
       "\n",
       "                                             Summary  \n",
       "0          Flying Triangle object Martin County, TX.  \n",
       "1  Seen a object with a solid orange bar that lit...  \n",
       "2  Yellow beam of light falling from the sky, wit...  \n",
       "3  Object came in from west to east below approx ...  \n",
       "4  \\tI saw 3 orange lights in a formation coming ...  "
      ]
     },
     "execution_count": 5,
     "metadata": {},
     "output_type": "execute_result"
    }
   ],
   "source": [
    "# 3. Make a dataframe out of it\n",
    "\n",
    "ufo = pd.DataFrame(ufo_sightings)\n",
    "ufo.head()"
   ]
  },
  {
   "cell_type": "code",
   "execution_count": 6,
   "metadata": {
    "collapsed": false
   },
   "outputs": [],
   "source": [
    "# 4. make a day column\n",
    "\n",
    "from datetime import datetime\n",
    "\n",
    "def parse_date(x):\n",
    "    for fmt in ('%m/%d/%y %H:%M', '%m/%d/%y'):\n",
    "        try:\n",
    "            return datetime.strptime(x, fmt)\n",
    "        except ValueError:\n",
    "            pass\n",
    "\n",
    "ufo['time'] = ufo.Date.apply(parse_date)\n",
    "ufo['day'] = ufo.Date.apply(parse_date).dt.day"
   ]
  },
  {
   "cell_type": "code",
   "execution_count": 7,
   "metadata": {
    "collapsed": false
   },
   "outputs": [
    {
     "data": {
      "text/html": [
       "<div style=\"max-height:1000px;max-width:1500px;overflow:auto;\">\n",
       "<table border=\"1\" class=\"dataframe\">\n",
       "  <thead>\n",
       "    <tr style=\"text-align: right;\">\n",
       "      <th></th>\n",
       "      <th>City</th>\n",
       "      <th>Date</th>\n",
       "      <th>Shape</th>\n",
       "      <th>State</th>\n",
       "      <th>Summary</th>\n",
       "      <th>time</th>\n",
       "      <th>day</th>\n",
       "    </tr>\n",
       "  </thead>\n",
       "  <tbody>\n",
       "    <tr>\n",
       "      <th>0</th>\n",
       "      <td>                            Stanton</td>\n",
       "      <td> 1/31/16 23:10</td>\n",
       "      <td> Triangle</td>\n",
       "      <td> TX</td>\n",
       "      <td>         Flying Triangle object Martin County, TX.</td>\n",
       "      <td>2016-01-31 23:10:00</td>\n",
       "      <td> 31</td>\n",
       "    </tr>\n",
       "    <tr>\n",
       "      <th>1</th>\n",
       "      <td> Emigrant Pass (near; foothills of)</td>\n",
       "      <td> 1/31/16 23:00</td>\n",
       "      <td>    Other</td>\n",
       "      <td> OR</td>\n",
       "      <td> Seen a object with a solid orange bar that lit...</td>\n",
       "      <td>2016-01-31 23:00:00</td>\n",
       "      <td> 31</td>\n",
       "    </tr>\n",
       "    <tr>\n",
       "      <th>2</th>\n",
       "      <td>                          Allentown</td>\n",
       "      <td> 1/31/16 22:00</td>\n",
       "      <td> Fireball</td>\n",
       "      <td> PA</td>\n",
       "      <td> Yellow beam of light falling from the sky, wit...</td>\n",
       "      <td>2016-01-31 22:00:00</td>\n",
       "      <td> 31</td>\n",
       "    </tr>\n",
       "    <tr>\n",
       "      <th>3</th>\n",
       "      <td>                          Sandpoint</td>\n",
       "      <td> 1/31/16 20:57</td>\n",
       "      <td> Fireball</td>\n",
       "      <td> ID</td>\n",
       "      <td> Object came in from west to east below approx ...</td>\n",
       "      <td>2016-01-31 20:57:00</td>\n",
       "      <td> 31</td>\n",
       "    </tr>\n",
       "    <tr>\n",
       "      <th>4</th>\n",
       "      <td>                      West Suffield</td>\n",
       "      <td> 1/31/16 20:46</td>\n",
       "      <td>   Circle</td>\n",
       "      <td> CT</td>\n",
       "      <td> \\tI saw 3 orange lights in a formation coming ...</td>\n",
       "      <td>2016-01-31 20:46:00</td>\n",
       "      <td> 31</td>\n",
       "    </tr>\n",
       "  </tbody>\n",
       "</table>\n",
       "</div>"
      ],
      "text/plain": [
       "                                 City           Date     Shape State  \\\n",
       "0                             Stanton  1/31/16 23:10  Triangle    TX   \n",
       "1  Emigrant Pass (near; foothills of)  1/31/16 23:00     Other    OR   \n",
       "2                           Allentown  1/31/16 22:00  Fireball    PA   \n",
       "3                           Sandpoint  1/31/16 20:57  Fireball    ID   \n",
       "4                       West Suffield  1/31/16 20:46    Circle    CT   \n",
       "\n",
       "                                             Summary                time  day  \n",
       "0          Flying Triangle object Martin County, TX. 2016-01-31 23:10:00   31  \n",
       "1  Seen a object with a solid orange bar that lit... 2016-01-31 23:00:00   31  \n",
       "2  Yellow beam of light falling from the sky, wit... 2016-01-31 22:00:00   31  \n",
       "3  Object came in from west to east below approx ... 2016-01-31 20:57:00   31  \n",
       "4  \\tI saw 3 orange lights in a formation coming ... 2016-01-31 20:46:00   31  "
      ]
     },
     "execution_count": 7,
     "metadata": {},
     "output_type": "execute_result"
    }
   ],
   "source": [
    "ufo.head()"
   ]
  },
  {
   "cell_type": "code",
   "execution_count": 8,
   "metadata": {
    "collapsed": false
   },
   "outputs": [
    {
     "data": {
      "text/plain": [
       "<matplotlib.axes._subplots.AxesSubplot at 0x115374710>"
      ]
     },
     "execution_count": 8,
     "metadata": {},
     "output_type": "execute_result"
    },
    {
     "data": {
      "image/png": "[encoded data removed]",
      "text/plain": [
       "<matplotlib.figure.Figure at 0x115361f90>"
      ]
     },
     "metadata": {},
     "output_type": "display_data"
    }
   ],
   "source": [
    "# 5. graph each day in 2016 and see which day had the most! (Is it July 4th?)\n",
    "\n",
    "import matplotlib.pyplot as plt\n",
    "%matplotlib inline\n",
    "\n",
    "ufo.groupby(pd.Grouper(key='time',freq='1d')).count().day.plot()\n",
    "\n",
    "# no it is not 4th of july"
   ]
  },
  {
   "cell_type": "code",
   "execution_count": 9,
   "metadata": {
    "collapsed": true
   },
   "outputs": [],
   "source": [
    "##### TWITTER ######\n",
    "\n",
    "# Create a dataframe where each row is a tweet that uses any tag (or tags) you choose!\n",
    "# include a column for date, text, user handle, user name, and user image\n",
    "# You can use the normal query method and not stream for this!\n",
    "\n",
    "api_key = 'g5uPIpw80nULQI1gfklv2zrh4'\n",
    "api_secret = 'cOWvNWxYvPmEZ0ArZVeeVVvJu41QYHdUS2GpqIKtSQ1isd5PJy'\n",
    "access_token = '49722956-TWl8J0aAS6KTdcbz3ppZ7NfqZEmrwmbsb9cYPNELG'\n",
    "access_secret = '3eqrVssF3ppv23qyflyAto8wLEiYRA8sXEPSghuOJWTub'\n",
    "\n",
    "# Masahpe Key\n",
    "mashape_key = '0CLvblsJOxmshWkaep4szo9CILOMp1PM3hhjsnDi4k8g8ME14o'"
   ]
  },
  {
   "cell_type": "code",
   "execution_count": 10,
   "metadata": {
    "collapsed": true
   },
   "outputs": [],
   "source": [
    "import tweepy       # python wrapper for twitter api\n",
    "import json\n",
    "import time"
   ]
  },
  {
   "cell_type": "code",
   "execution_count": 11,
   "metadata": {
    "collapsed": false
   },
   "outputs": [],
   "source": [
    "# Create a dataframe where each row is a tweet that uses any tag (or tags) you choose!\n",
    "tag = 'Proscia'\n",
    "\n",
    "auth = tweepy.OAuthHandler(api_key, api_secret)\n",
    "auth.set_access_token(access_token, access_secret)\n",
    "api = tweepy.API(auth) # returns a tweepy authorization handler object\n",
    "tweets = api.search(q=tag)"
   ]
  },
  {
   "cell_type": "code",
   "execution_count": 12,
   "metadata": {
    "collapsed": false,
    "scrolled": true
   },
   "outputs": [],
   "source": [
    "# include a column for date, text, user handle, user name, and user image\n",
    "rio_tweets = {'date': [], 'text': [],\n",
    "        'user_handle': [], 'user_name': [],\n",
    "        'user_image': []}\n",
    "\n",
    "for t in tweets:\n",
    "    rio_tweets['date'].append(t.created_at)\n",
    "    rio_tweets['text'].append(t.text)\n",
    "    rio_tweets['user_handle'].append(t.author.screen_name)\n",
    "    rio_tweets['user_name'].append(t.author.name)\n",
    "    rio_tweets['user_image'].append(t.author.profile_image_url)"
   ]
  },
  {
   "cell_type": "code",
   "execution_count": 13,
   "metadata": {
    "collapsed": false
   },
   "outputs": [],
   "source": [
    "# You can use the normal query method and not stream for this!\n",
    "\n",
    "rio_tweets_df = pd.DataFrame(rio_tweets)"
   ]
  },
  {
   "cell_type": "code",
   "execution_count": 14,
   "metadata": {
    "collapsed": false
   },
   "outputs": [
    {
     "data": {
      "text/html": [
       "<div style=\"max-height:1000px;max-width:1500px;overflow:auto;\">\n",
       "<table border=\"1\" class=\"dataframe\">\n",
       "  <thead>\n",
       "    <tr style=\"text-align: right;\">\n",
       "      <th></th>\n",
       "      <th>date</th>\n",
       "      <th>text</th>\n",
       "      <th>user_handle</th>\n",
       "      <th>user_image</th>\n",
       "      <th>user_name</th>\n",
       "    </tr>\n",
       "  </thead>\n",
       "  <tbody>\n",
       "    <tr>\n",
       "      <th>0</th>\n",
       "      <td>2016-10-26 22:23:17</td>\n",
       "      <td> RT @girlposts: THIS IS WHY YOU SHOULDN'T FALL ...</td>\n",
       "      <td> hayley_proscia</td>\n",
       "      <td> http://pbs.twimg.com/profile_images/7826628997...</td>\n",
       "      <td>       Hayley Proscia</td>\n",
       "    </tr>\n",
       "    <tr>\n",
       "      <th>1</th>\n",
       "      <td>2016-10-26 22:13:48</td>\n",
       "      <td> RT @teenagernotes: why hasn't snapchat made gr...</td>\n",
       "      <td> hayley_proscia</td>\n",
       "      <td> http://pbs.twimg.com/profile_images/7826628997...</td>\n",
       "      <td>       Hayley Proscia</td>\n",
       "    </tr>\n",
       "    <tr>\n",
       "      <th>2</th>\n",
       "      <td>2016-10-26 21:15:08</td>\n",
       "      <td> Proscia Pathology Cloud Now with New Cancer Im...</td>\n",
       "      <td>         dwesty</td>\n",
       "      <td> http://pbs.twimg.com/profile_images/1671988086...</td>\n",
       "      <td>           David West</td>\n",
       "    </tr>\n",
       "    <tr>\n",
       "      <th>3</th>\n",
       "      <td>2016-10-26 18:55:07</td>\n",
       "      <td> Proscia Pathology Cloud Now with New #Cancer I...</td>\n",
       "      <td>   drseisenberg</td>\n",
       "      <td> http://pbs.twimg.com/profile_images/7809533839...</td>\n",
       "      <td> Dr. Steven Eisenberg</td>\n",
       "    </tr>\n",
       "    <tr>\n",
       "      <th>4</th>\n",
       "      <td>2016-10-26 18:45:05</td>\n",
       "      <td> When you in your school lounge and two girls h...</td>\n",
       "      <td> alyssa_proscia</td>\n",
       "      <td> http://pbs.twimg.com/profile_images/7913695356...</td>\n",
       "      <td>       Alyssa Proscia</td>\n",
       "    </tr>\n",
       "  </tbody>\n",
       "</table>\n",
       "</div>"
      ],
      "text/plain": [
       "                 date                                               text  \\\n",
       "0 2016-10-26 22:23:17  RT @girlposts: THIS IS WHY YOU SHOULDN'T FALL ...   \n",
       "1 2016-10-26 22:13:48  RT @teenagernotes: why hasn't snapchat made gr...   \n",
       "2 2016-10-26 21:15:08  Proscia Pathology Cloud Now with New Cancer Im...   \n",
       "3 2016-10-26 18:55:07  Proscia Pathology Cloud Now with New #Cancer I...   \n",
       "4 2016-10-26 18:45:05  When you in your school lounge and two girls h...   \n",
       "\n",
       "      user_handle                                         user_image  \\\n",
       "0  hayley_proscia  http://pbs.twimg.com/profile_images/7826628997...   \n",
       "1  hayley_proscia  http://pbs.twimg.com/profile_images/7826628997...   \n",
       "2          dwesty  http://pbs.twimg.com/profile_images/1671988086...   \n",
       "3    drseisenberg  http://pbs.twimg.com/profile_images/7809533839...   \n",
       "4  alyssa_proscia  http://pbs.twimg.com/profile_images/7913695356...   \n",
       "\n",
       "              user_name  \n",
       "0        Hayley Proscia  \n",
       "1        Hayley Proscia  \n",
       "2            David West  \n",
       "3  Dr. Steven Eisenberg  \n",
       "4        Alyssa Proscia  "
      ]
     },
     "execution_count": 14,
     "metadata": {},
     "output_type": "execute_result"
    }
   ],
   "source": [
    "rio_tweets_df.head()"
   ]
  },
  {
   "cell_type": "code",
   "execution_count": null,
   "metadata": {
    "collapsed": true
   },
   "outputs": [],
   "source": []
  }
 ],
 "metadata": {
  "anaconda-cloud": {},
  "kernelspec": {
   "display_name": "Python 2",
   "language": "python",
   "name": "python2"
  },
  "language_info": {
   "codemirror_mode": {
    "name": "ipython",
    "version": 2
   },
   "file_extension": ".py",
   "mimetype": "text/x-python",
   "name": "python",
   "nbconvert_exporter": "python",
   "pygments_lexer": "ipython2",
   "version": "2.7.9"
  }
 },
 "nbformat": 4,
 "nbformat_minor": 0
}
